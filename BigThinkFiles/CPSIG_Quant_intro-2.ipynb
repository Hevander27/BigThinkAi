{
  "nbformat": 4,
  "nbformat_minor": 0,
  "metadata": {
    "colab": {
      "provenance": []
    },
    "kernelspec": {
      "display_name": "Python 3",
      "name": "python3"
    },
    "language_info": {
      "name": "python"
    }
  },
  "cells": [
    {
      "cell_type": "markdown",
      "metadata": {
        "id": "X9tkbI5PlllE"
      },
      "source": [
        "## Setup"
      ]
    },
    {
      "cell_type": "code",
      "metadata": {
        "colab": {
          "base_uri": "https://localhost:8080/"
        },
        "id": "oz2AFkYeA36q",
        "outputId": "70ad46b5-af64-4d7f-dde0-d5980db6c377"
      },
      "source": [
        "!pip install alpaca-trade-api\n",
        "!pip install alpaca-backtrader-api\n",
        "!pip install backtrader\n",
        "!pip install --upgrade backtrader\n",
        "!pip install statsmodels --upgrade\n"
      ],
      "execution_count": 2,
      "outputs": [
        {
          "output_type": "stream",
          "name": "stdout",
          "text": [
            "Collecting alpaca-trade-api\n",
            "  Downloading alpaca_trade_api-3.2.0-py3-none-any.whl (34 kB)\n",
            "Requirement already satisfied: pandas>=0.18.1 in /usr/local/lib/python3.10/dist-packages (from alpaca-trade-api) (2.0.3)\n",
            "Requirement already satisfied: numpy>=1.11.1 in /usr/local/lib/python3.10/dist-packages (from alpaca-trade-api) (1.25.2)\n",
            "Requirement already satisfied: requests<3,>2 in /usr/local/lib/python3.10/dist-packages (from alpaca-trade-api) (2.31.0)\n",
            "Collecting urllib3<2,>1.24 (from alpaca-trade-api)\n",
            "  Downloading urllib3-1.26.18-py2.py3-none-any.whl (143 kB)\n",
            "\u001b[2K     \u001b[90m━━━━━━━━━━━━━━━━━━━━━━━━━━━━━━━━━━━━━━━━\u001b[0m \u001b[32m143.8/143.8 kB\u001b[0m \u001b[31m2.2 MB/s\u001b[0m eta \u001b[36m0:00:00\u001b[0m\n",
            "\u001b[?25hRequirement already satisfied: websocket-client<2,>=0.56.0 in /usr/local/lib/python3.10/dist-packages (from alpaca-trade-api) (1.8.0)\n",
            "Collecting websockets<11,>=9.0 (from alpaca-trade-api)\n",
            "  Downloading websockets-10.4-cp310-cp310-manylinux_2_5_x86_64.manylinux1_x86_64.manylinux_2_17_x86_64.manylinux2014_x86_64.whl (106 kB)\n",
            "\u001b[2K     \u001b[90m━━━━━━━━━━━━━━━━━━━━━━━━━━━━━━━━━━━━━━━━\u001b[0m \u001b[32m106.8/106.8 kB\u001b[0m \u001b[31m2.0 MB/s\u001b[0m eta \u001b[36m0:00:00\u001b[0m\n",
            "\u001b[?25hCollecting msgpack==1.0.3 (from alpaca-trade-api)\n",
            "  Downloading msgpack-1.0.3-cp310-cp310-manylinux_2_17_x86_64.manylinux2014_x86_64.whl (323 kB)\n",
            "\u001b[2K     \u001b[90m━━━━━━━━━━━━━━━━━━━━━━━━━━━━━━━━━━━━━━━━\u001b[0m \u001b[32m323.7/323.7 kB\u001b[0m \u001b[31m6.1 MB/s\u001b[0m eta \u001b[36m0:00:00\u001b[0m\n",
            "\u001b[?25hRequirement already satisfied: aiohttp<4,>=3.8.3 in /usr/local/lib/python3.10/dist-packages (from alpaca-trade-api) (3.9.5)\n",
            "Requirement already satisfied: PyYAML==6.0.1 in /usr/local/lib/python3.10/dist-packages (from alpaca-trade-api) (6.0.1)\n",
            "Collecting deprecation==2.1.0 (from alpaca-trade-api)\n",
            "  Downloading deprecation-2.1.0-py2.py3-none-any.whl (11 kB)\n",
            "Requirement already satisfied: packaging in /usr/local/lib/python3.10/dist-packages (from deprecation==2.1.0->alpaca-trade-api) (24.0)\n",
            "Requirement already satisfied: aiosignal>=1.1.2 in /usr/local/lib/python3.10/dist-packages (from aiohttp<4,>=3.8.3->alpaca-trade-api) (1.3.1)\n",
            "Requirement already satisfied: attrs>=17.3.0 in /usr/local/lib/python3.10/dist-packages (from aiohttp<4,>=3.8.3->alpaca-trade-api) (23.2.0)\n",
            "Requirement already satisfied: frozenlist>=1.1.1 in /usr/local/lib/python3.10/dist-packages (from aiohttp<4,>=3.8.3->alpaca-trade-api) (1.4.1)\n",
            "Requirement already satisfied: multidict<7.0,>=4.5 in /usr/local/lib/python3.10/dist-packages (from aiohttp<4,>=3.8.3->alpaca-trade-api) (6.0.5)\n",
            "Requirement already satisfied: yarl<2.0,>=1.0 in /usr/local/lib/python3.10/dist-packages (from aiohttp<4,>=3.8.3->alpaca-trade-api) (1.9.4)\n",
            "Requirement already satisfied: async-timeout<5.0,>=4.0 in /usr/local/lib/python3.10/dist-packages (from aiohttp<4,>=3.8.3->alpaca-trade-api) (4.0.3)\n",
            "Requirement already satisfied: python-dateutil>=2.8.2 in /usr/local/lib/python3.10/dist-packages (from pandas>=0.18.1->alpaca-trade-api) (2.8.2)\n",
            "Requirement already satisfied: pytz>=2020.1 in /usr/local/lib/python3.10/dist-packages (from pandas>=0.18.1->alpaca-trade-api) (2023.4)\n",
            "Requirement already satisfied: tzdata>=2022.1 in /usr/local/lib/python3.10/dist-packages (from pandas>=0.18.1->alpaca-trade-api) (2024.1)\n",
            "Requirement already satisfied: charset-normalizer<4,>=2 in /usr/local/lib/python3.10/dist-packages (from requests<3,>2->alpaca-trade-api) (3.3.2)\n",
            "Requirement already satisfied: idna<4,>=2.5 in /usr/local/lib/python3.10/dist-packages (from requests<3,>2->alpaca-trade-api) (3.7)\n",
            "Requirement already satisfied: certifi>=2017.4.17 in /usr/local/lib/python3.10/dist-packages (from requests<3,>2->alpaca-trade-api) (2024.2.2)\n",
            "Requirement already satisfied: six>=1.5 in /usr/local/lib/python3.10/dist-packages (from python-dateutil>=2.8.2->pandas>=0.18.1->alpaca-trade-api) (1.16.0)\n",
            "Installing collected packages: msgpack, websockets, urllib3, deprecation, alpaca-trade-api\n",
            "  Attempting uninstall: msgpack\n",
            "    Found existing installation: msgpack 1.0.8\n",
            "    Uninstalling msgpack-1.0.8:\n",
            "      Successfully uninstalled msgpack-1.0.8\n",
            "  Attempting uninstall: urllib3\n",
            "    Found existing installation: urllib3 2.0.7\n",
            "    Uninstalling urllib3-2.0.7:\n",
            "      Successfully uninstalled urllib3-2.0.7\n",
            "Successfully installed alpaca-trade-api-3.2.0 deprecation-2.1.0 msgpack-1.0.3 urllib3-1.26.18 websockets-10.4\n",
            "Collecting alpaca-backtrader-api\n",
            "  Downloading alpaca_backtrader_api-0.15.0-py3-none-any.whl (23 kB)\n",
            "Collecting backtrader==1.9.76.123 (from alpaca-backtrader-api)\n",
            "  Downloading backtrader-1.9.76.123-py2.py3-none-any.whl (410 kB)\n",
            "\u001b[2K     \u001b[90m━━━━━━━━━━━━━━━━━━━━━━━━━━━━━━━━━━━━━━━━\u001b[0m \u001b[32m410.1/410.1 kB\u001b[0m \u001b[31m3.6 MB/s\u001b[0m eta \u001b[36m0:00:00\u001b[0m\n",
            "\u001b[?25hCollecting alpaca-trade-api==1.4.3 (from alpaca-backtrader-api)\n",
            "  Downloading alpaca_trade_api-1.4.3-py3-none-any.whl (36 kB)\n",
            "Collecting exchange-calendars==3.4 (from alpaca-backtrader-api)\n",
            "  Downloading exchange_calendars-3.4.tar.gz (147 kB)\n",
            "\u001b[2K     \u001b[90m━━━━━━━━━━━━━━━━━━━━━━━━━━━━━━━━━━━━━━━━\u001b[0m \u001b[32m147.4/147.4 kB\u001b[0m \u001b[31m15.3 MB/s\u001b[0m eta \u001b[36m0:00:00\u001b[0m\n",
            "\u001b[?25h  Preparing metadata (setup.py) ... \u001b[?25l\u001b[?25hdone\n",
            "Collecting matplotlib==2.2.5 (from alpaca-backtrader-api)\n",
            "  Downloading matplotlib-2.2.5.tar.gz (36.7 MB)\n",
            "\u001b[2K     \u001b[90m━━━━━━━━━━━━━━━━━━━━━━━━━━━━━━━━━━━━━━━━\u001b[0m \u001b[32m36.7/36.7 MB\u001b[0m \u001b[31m30.4 MB/s\u001b[0m eta \u001b[36m0:00:00\u001b[0m\n",
            "\u001b[?25h  Preparing metadata (setup.py) ... \u001b[?25l\u001b[?25hdone\n",
            "Collecting msgpack==1.0.2 (from alpaca-backtrader-api)\n",
            "  Downloading msgpack-1.0.2.tar.gz (123 kB)\n",
            "\u001b[2K     \u001b[90m━━━━━━━━━━━━━━━━━━━━━━━━━━━━━━━━━━━━━━━━\u001b[0m \u001b[32m123.0/123.0 kB\u001b[0m \u001b[31m13.6 MB/s\u001b[0m eta \u001b[36m0:00:00\u001b[0m\n",
            "\u001b[?25h  Preparing metadata (setup.py) ... \u001b[?25l\u001b[?25hdone\n",
            "Collecting numpy==1.21.2 (from alpaca-backtrader-api)\n",
            "  Downloading numpy-1.21.2-cp310-cp310-manylinux_2_17_x86_64.manylinux2014_x86_64.whl (15.9 MB)\n",
            "\u001b[2K     \u001b[90m━━━━━━━━━━━━━━━━━━━━━━━━━━━━━━━━━━━━━━━━\u001b[0m \u001b[32m15.9/15.9 MB\u001b[0m \u001b[31m46.1 MB/s\u001b[0m eta \u001b[36m0:00:00\u001b[0m\n",
            "\u001b[?25hCollecting pandas==1.3.2 (from alpaca-backtrader-api)\n",
            "  Downloading pandas-1.3.2.tar.gz (4.7 MB)\n",
            "\u001b[2K     \u001b[90m━━━━━━━━━━━━━━━━━━━━━━━━━━━━━━━━━━━━━━━━\u001b[0m \u001b[32m4.7/4.7 MB\u001b[0m \u001b[31m22.2 MB/s\u001b[0m eta \u001b[36m0:00:00\u001b[0m\n",
            "\u001b[?25h  \u001b[1;31merror\u001b[0m: \u001b[1msubprocess-exited-with-error\u001b[0m\n",
            "  \n",
            "  \u001b[31m×\u001b[0m \u001b[32mpip subprocess to install build dependencies\u001b[0m did not run successfully.\n",
            "  \u001b[31m│\u001b[0m exit code: \u001b[1;36m1\u001b[0m\n",
            "  \u001b[31m╰─>\u001b[0m See above for output.\n",
            "  \n",
            "  \u001b[1;35mnote\u001b[0m: This error originates from a subprocess, and is likely not a problem with pip.\n",
            "  Installing build dependencies ... \u001b[?25l\u001b[?25herror\n",
            "\u001b[1;31merror\u001b[0m: \u001b[1msubprocess-exited-with-error\u001b[0m\n",
            "\n",
            "\u001b[31m×\u001b[0m \u001b[32mpip subprocess to install build dependencies\u001b[0m did not run successfully.\n",
            "\u001b[31m│\u001b[0m exit code: \u001b[1;36m1\u001b[0m\n",
            "\u001b[31m╰─>\u001b[0m See above for output.\n",
            "\n",
            "\u001b[1;35mnote\u001b[0m: This error originates from a subprocess, and is likely not a problem with pip.\n",
            "Collecting backtrader\n",
            "  Downloading backtrader-1.9.78.123-py2.py3-none-any.whl (419 kB)\n",
            "\u001b[2K     \u001b[90m━━━━━━━━━━━━━━━━━━━━━━━━━━━━━━━━━━━━━━━━\u001b[0m \u001b[32m419.5/419.5 kB\u001b[0m \u001b[31m2.8 MB/s\u001b[0m eta \u001b[36m0:00:00\u001b[0m\n",
            "\u001b[?25hInstalling collected packages: backtrader\n",
            "Successfully installed backtrader-1.9.78.123\n",
            "Requirement already satisfied: backtrader in /usr/local/lib/python3.10/dist-packages (1.9.78.123)\n",
            "Requirement already satisfied: statsmodels in /usr/local/lib/python3.10/dist-packages (0.14.2)\n",
            "Requirement already satisfied: numpy>=1.22.3 in /usr/local/lib/python3.10/dist-packages (from statsmodels) (1.25.2)\n",
            "Requirement already satisfied: scipy!=1.9.2,>=1.8 in /usr/local/lib/python3.10/dist-packages (from statsmodels) (1.11.4)\n",
            "Requirement already satisfied: pandas!=2.1.0,>=1.4 in /usr/local/lib/python3.10/dist-packages (from statsmodels) (2.0.3)\n",
            "Requirement already satisfied: patsy>=0.5.6 in /usr/local/lib/python3.10/dist-packages (from statsmodels) (0.5.6)\n",
            "Requirement already satisfied: packaging>=21.3 in /usr/local/lib/python3.10/dist-packages (from statsmodels) (24.0)\n",
            "Requirement already satisfied: python-dateutil>=2.8.2 in /usr/local/lib/python3.10/dist-packages (from pandas!=2.1.0,>=1.4->statsmodels) (2.8.2)\n",
            "Requirement already satisfied: pytz>=2020.1 in /usr/local/lib/python3.10/dist-packages (from pandas!=2.1.0,>=1.4->statsmodels) (2023.4)\n",
            "Requirement already satisfied: tzdata>=2022.1 in /usr/local/lib/python3.10/dist-packages (from pandas!=2.1.0,>=1.4->statsmodels) (2024.1)\n",
            "Requirement already satisfied: six in /usr/local/lib/python3.10/dist-packages (from patsy>=0.5.6->statsmodels) (1.16.0)\n"
          ]
        }
      ]
    },
    {
      "cell_type": "code",
      "metadata": {
        "id": "F5pI6-Qd-ktQ",
        "outputId": "c50cedd9-1897-4cbf-a9d6-0841ac7aa52d",
        "colab": {
          "base_uri": "https://localhost:8080/",
          "height": 378
        }
      },
      "source": [
        "import alpaca_trade_api as alpaca\n",
        "import alpaca_backtrader_api as alpaca_backtest\n",
        "import time\n",
        "from __future__ import (absolute_import, division, print_function,\n",
        "                        unicode_literals)\n",
        "\n",
        "import datetime  # For datetime objects\n",
        "import os.path  # To manage paths\n",
        "import sys  # To find out the script name (in argv[0])\n",
        "\n",
        "# Import the backtrader platform\n",
        "import backtrader as bt\n"
      ],
      "execution_count": 3,
      "outputs": [
        {
          "output_type": "error",
          "ename": "ModuleNotFoundError",
          "evalue": "No module named 'alpaca_backtrader_api'",
          "traceback": [
            "\u001b[0;31m---------------------------------------------------------------------------\u001b[0m",
            "\u001b[0;31mModuleNotFoundError\u001b[0m                       Traceback (most recent call last)",
            "\u001b[0;32m<ipython-input-3-33a18137d58b>\u001b[0m in \u001b[0;36m<cell line: 2>\u001b[0;34m()\u001b[0m\n\u001b[1;32m      1\u001b[0m \u001b[0;32mimport\u001b[0m \u001b[0malpaca_trade_api\u001b[0m \u001b[0;32mas\u001b[0m \u001b[0malpaca\u001b[0m\u001b[0;34m\u001b[0m\u001b[0;34m\u001b[0m\u001b[0m\n\u001b[0;32m----> 2\u001b[0;31m \u001b[0;32mimport\u001b[0m \u001b[0malpaca_backtrader_api\u001b[0m \u001b[0;32mas\u001b[0m \u001b[0malpaca_backtest\u001b[0m\u001b[0;34m\u001b[0m\u001b[0;34m\u001b[0m\u001b[0m\n\u001b[0m\u001b[1;32m      3\u001b[0m \u001b[0;32mimport\u001b[0m \u001b[0mtime\u001b[0m\u001b[0;34m\u001b[0m\u001b[0;34m\u001b[0m\u001b[0m\n\u001b[1;32m      4\u001b[0m from __future__ import (absolute_import, division, print_function,\n\u001b[1;32m      5\u001b[0m                         unicode_literals)\n",
            "\u001b[0;31mModuleNotFoundError\u001b[0m: No module named 'alpaca_backtrader_api'",
            "",
            "\u001b[0;31m---------------------------------------------------------------------------\u001b[0;32m\nNOTE: If your import is failing due to a missing package, you can\nmanually install dependencies using either !pip or !apt.\n\nTo view examples of installing some common dependencies, click the\n\"Open Examples\" button below.\n\u001b[0;31m---------------------------------------------------------------------------\u001b[0m\n"
          ],
          "errorDetails": {
            "actions": [
              {
                "action": "open_url",
                "actionText": "Open Examples",
                "url": "/notebooks/snippets/importing_libraries.ipynb"
              }
            ]
          }
        }
      ]
    },
    {
      "cell_type": "code",
      "metadata": {
        "id": "2Mc5sCqoBzJs"
      },
      "source": [
        "key = 'PK5DSEQFYZ3C7Q32LT7Q'\n",
        "secret_key = 'sxX1VhQLlfNM9yqTaKV1YjGlHwQiImklGoqFCFjQ'\n",
        "endpoint = \"https://paper-api.alpaca.markets\"\n",
        "api = alpaca.REST(key, secret_key, endpoint, api_version='v2')"
      ],
      "execution_count": null,
      "outputs": []
    },
    {
      "cell_type": "markdown",
      "metadata": {
        "id": "dS2wDBbylrZm"
      },
      "source": [
        "##Alpaca"
      ]
    },
    {
      "cell_type": "code",
      "metadata": {
        "id": "X-53PrPsCEpQ"
      },
      "source": [
        "account = api.get_account()\n",
        "order_id = 1\n"
      ],
      "execution_count": null,
      "outputs": []
    },
    {
      "cell_type": "code",
      "metadata": {
        "colab": {
          "base_uri": "https://localhost:8080/",
          "height": 266
        },
        "id": "bEZrU59gCIgF",
        "outputId": "080c5681-a6ad-4efd-efeb-08f9d68674f9"
      },
      "source": [
        "aapl = api.get_barset('AAPL', 'day')\n",
        "aapl.df.head()"
      ],
      "execution_count": null,
      "outputs": [
        {
          "output_type": "execute_result",
          "data": {
            "text/html": [
              "<div>\n",
              "<style scoped>\n",
              "    .dataframe tbody tr th:only-of-type {\n",
              "        vertical-align: middle;\n",
              "    }\n",
              "\n",
              "    .dataframe tbody tr th {\n",
              "        vertical-align: top;\n",
              "    }\n",
              "\n",
              "    .dataframe thead tr th {\n",
              "        text-align: left;\n",
              "    }\n",
              "\n",
              "    .dataframe thead tr:last-of-type th {\n",
              "        text-align: right;\n",
              "    }\n",
              "</style>\n",
              "<table border=\"1\" class=\"dataframe\">\n",
              "  <thead>\n",
              "    <tr>\n",
              "      <th></th>\n",
              "      <th colspan=\"5\" halign=\"left\">AAPL</th>\n",
              "    </tr>\n",
              "    <tr>\n",
              "      <th></th>\n",
              "      <th>open</th>\n",
              "      <th>high</th>\n",
              "      <th>low</th>\n",
              "      <th>close</th>\n",
              "      <th>volume</th>\n",
              "    </tr>\n",
              "    <tr>\n",
              "      <th>time</th>\n",
              "      <th></th>\n",
              "      <th></th>\n",
              "      <th></th>\n",
              "      <th></th>\n",
              "      <th></th>\n",
              "    </tr>\n",
              "  </thead>\n",
              "  <tbody>\n",
              "    <tr>\n",
              "      <th>2021-06-14 00:00:00-04:00</th>\n",
              "      <td>127.82</td>\n",
              "      <td>130.49</td>\n",
              "      <td>127.070</td>\n",
              "      <td>130.49</td>\n",
              "      <td>73169843</td>\n",
              "    </tr>\n",
              "    <tr>\n",
              "      <th>2021-06-15 00:00:00-04:00</th>\n",
              "      <td>129.88</td>\n",
              "      <td>130.60</td>\n",
              "      <td>129.390</td>\n",
              "      <td>129.74</td>\n",
              "      <td>53587032</td>\n",
              "    </tr>\n",
              "    <tr>\n",
              "      <th>2021-06-16 00:00:00-04:00</th>\n",
              "      <td>130.29</td>\n",
              "      <td>130.89</td>\n",
              "      <td>128.461</td>\n",
              "      <td>130.14</td>\n",
              "      <td>81577235</td>\n",
              "    </tr>\n",
              "    <tr>\n",
              "      <th>2021-06-17 00:00:00-04:00</th>\n",
              "      <td>129.80</td>\n",
              "      <td>132.55</td>\n",
              "      <td>129.650</td>\n",
              "      <td>131.78</td>\n",
              "      <td>82434812</td>\n",
              "    </tr>\n",
              "    <tr>\n",
              "      <th>2021-06-18 00:00:00-04:00</th>\n",
              "      <td>130.65</td>\n",
              "      <td>131.51</td>\n",
              "      <td>130.240</td>\n",
              "      <td>130.40</td>\n",
              "      <td>78114203</td>\n",
              "    </tr>\n",
              "  </tbody>\n",
              "</table>\n",
              "</div>"
            ],
            "text/plain": [
              "                             AAPL                                   \n",
              "                             open    high      low   close    volume\n",
              "time                                                                \n",
              "2021-06-14 00:00:00-04:00  127.82  130.49  127.070  130.49  73169843\n",
              "2021-06-15 00:00:00-04:00  129.88  130.60  129.390  129.74  53587032\n",
              "2021-06-16 00:00:00-04:00  130.29  130.89  128.461  130.14  81577235\n",
              "2021-06-17 00:00:00-04:00  129.80  132.55  129.650  131.78  82434812\n",
              "2021-06-18 00:00:00-04:00  130.65  131.51  130.240  130.40  78114203"
            ]
          },
          "metadata": {},
          "execution_count": 73
        }
      ]
    },
    {
      "cell_type": "markdown",
      "metadata": {
        "id": "b4CJIMuglzDz"
      },
      "source": [
        "###Placing orders"
      ]
    },
    {
      "cell_type": "code",
      "metadata": {
        "colab": {
          "base_uri": "https://localhost:8080/"
        },
        "id": "1TYdgtfyDAD2",
        "outputId": "4df4384e-ee41-4091-d3ab-0ceb5e0da2a6"
      },
      "source": [
        "api.submit_order(symbol='AAPL',\n",
        "\t\tqty=1,\n",
        "\t\tside='buy',\n",
        "\t\ttime_in_force='gtc',\n",
        "\t\ttype='market')\n",
        "time.sleep(2)\n",
        "position = api.get_position('AAPL')\n",
        "position"
      ],
      "execution_count": null,
      "outputs": [
        {
          "data": {
            "text/plain": [
              "Position({   'asset_class': 'us_equity',\n",
              "    'asset_id': 'b0b6dd9d-8b9b-48a9-ba46-b9d54906e415',\n",
              "    'asset_marginable': True,\n",
              "    'avg_entry_price': '149.9',\n",
              "    'change_today': '0.0069197178367484',\n",
              "    'cost_basis': '149.9',\n",
              "    'current_price': '149.88',\n",
              "    'exchange': 'NASDAQ',\n",
              "    'lastday_price': '148.85',\n",
              "    'market_value': '149.88',\n",
              "    'qty': '1',\n",
              "    'side': 'long',\n",
              "    'symbol': 'AAPL',\n",
              "    'unrealized_intraday_pl': '-0.02',\n",
              "    'unrealized_intraday_plpc': '-0.000133422281521',\n",
              "    'unrealized_pl': '-0.02',\n",
              "    'unrealized_plpc': '-0.000133422281521'})"
            ]
          },
          "execution_count": 27,
          "metadata": {},
          "output_type": "execute_result"
        }
      ]
    },
    {
      "cell_type": "code",
      "metadata": {
        "id": "QXef86h_D3ss"
      },
      "source": [
        "total_qnt = api.get_position('AAPL').qty\n",
        "\n",
        "api.submit_order(symbol='AAPL',\n",
        "\t\tqty=total_qnt,\n",
        "\t\tside='sell',\n",
        "\t\ttime_in_force='gtc',\n",
        "\t\ttype='market')\n",
        "time.sleep(2)\n"
      ],
      "execution_count": null,
      "outputs": []
    },
    {
      "cell_type": "code",
      "metadata": {
        "colab": {
          "base_uri": "https://localhost:8080/"
        },
        "id": "-wUQdFi_F9YD",
        "outputId": "c70b6e81-f842-4ba0-f394-148e8000b069"
      },
      "source": [
        "MA = aapl.df.AAPL.close.rolling(20).mean().tail()\n",
        "STD = aapl.df.AAPL.close.rolling(20).std().tail()\n",
        "MA"
      ],
      "execution_count": null,
      "outputs": [
        {
          "output_type": "execute_result",
          "data": {
            "text/plain": [
              "time\n",
              "2021-10-27 00:00:00-04:00    144.79677\n",
              "2021-10-28 00:00:00-04:00    145.35460\n",
              "2021-10-29 00:00:00-04:00    145.71160\n",
              "2021-11-01 00:00:00-04:00    146.20160\n",
              "2021-11-02 00:00:00-04:00    146.64660\n",
              "Name: close, dtype: float64"
            ]
          },
          "metadata": {},
          "execution_count": 75
        }
      ]
    },
    {
      "cell_type": "code",
      "metadata": {
        "colab": {
          "base_uri": "https://localhost:8080/"
        },
        "id": "isR1CZHy2xSb",
        "outputId": "6e5fb045-78f2-4aea-84f9-95578135a56b"
      },
      "source": [
        "today_MA = MA[len(MA)-1]\n",
        "today_STD = STD[len(STD)-1]\n",
        "\n",
        "print(\"Moving Average: \" + str(today_MA) + \"\\nStd: \" + str(today_STD))"
      ],
      "execution_count": null,
      "outputs": [
        {
          "output_type": "stream",
          "name": "stdout",
          "text": [
            "Moving Average: 146.64660000000003\n",
            "Std: 3.4963616090234204\n"
          ]
        }
      ]
    },
    {
      "cell_type": "code",
      "metadata": {
        "colab": {
          "base_uri": "https://localhost:8080/",
          "height": 37
        },
        "id": "Nj-A_U5gF2ky",
        "outputId": "73047a94-4402-435c-933f-8f3058cc8120"
      },
      "source": [
        "\n",
        "api.submit_order(symbol='AAPL',\n",
        "\t\tqty=1,\n",
        "\t\tside='buy',\n",
        "\t\ttime_in_force='gtc',\n",
        "\t\ttype='limit',\n",
        "    limit_price = today_MA,\n",
        "\t\torder_class='bracket',\n",
        "\t\tstop_loss=dict(stop_price=stop_l),\n",
        "\t\ttake_profit=dict(limit_price=take_p))\n",
        ";"
      ],
      "execution_count": null,
      "outputs": [
        {
          "data": {
            "application/vnd.google.colaboratory.intrinsic+json": {
              "type": "string"
            },
            "text/plain": [
              "''"
            ]
          },
          "execution_count": 11,
          "metadata": {},
          "output_type": "execute_result"
        }
      ]
    },
    {
      "cell_type": "code",
      "metadata": {
        "colab": {
          "base_uri": "https://localhost:8080/"
        },
        "id": "HB0uSCQgKrkm",
        "outputId": "5b3bb2d6-6f7d-480d-ebb5-c79e49408048"
      },
      "source": [
        "api.submit_order(symbol='AAPL',\n",
        "\t\tqty=1,\n",
        "\t\tside='buy',\n",
        "\t\ttime_in_force='gtc',\n",
        "\t\ttype='limit',\n",
        "\t\tlimit_price=today_MA,\n",
        "\t\torder_class='bracket',\n",
        "\t\tstop_loss=dict(stop_price=stop_l),\n",
        "\t\ttake_profit=dict(limit_price=take_p))"
      ],
      "execution_count": null,
      "outputs": [
        {
          "data": {
            "text/plain": [
              "Order({   'asset_class': 'us_equity',\n",
              "    'asset_id': 'b0b6dd9d-8b9b-48a9-ba46-b9d54906e415',\n",
              "    'canceled_at': None,\n",
              "    'client_order_id': '3079dbe6-658f-42fb-895a-d3ad7d629c47',\n",
              "    'created_at': '2021-11-02T13:49:15.093301537Z',\n",
              "    'expired_at': None,\n",
              "    'extended_hours': False,\n",
              "    'failed_at': None,\n",
              "    'filled_at': None,\n",
              "    'filled_avg_price': None,\n",
              "    'filled_qty': '0',\n",
              "    'hwm': None,\n",
              "    'id': '9e411db3-3e5e-4293-b6a1-54cbdf17b619',\n",
              "    'legs': [   {   'asset_class': 'us_equity',\n",
              "                    'asset_id': 'b0b6dd9d-8b9b-48a9-ba46-b9d54906e415',\n",
              "                    'canceled_at': None,\n",
              "                    'client_order_id': '706d8f4f-825a-49d0-845a-189a08f1ab15',\n",
              "                    'created_at': '2021-11-02T13:49:15.093389587Z',\n",
              "                    'expired_at': None,\n",
              "                    'extended_hours': False,\n",
              "                    'failed_at': None,\n",
              "                    'filled_at': None,\n",
              "                    'filled_avg_price': None,\n",
              "                    'filled_qty': '0',\n",
              "                    'hwm': None,\n",
              "                    'id': 'b78258e3-d0b1-4af8-871d-9c248c574d7e',\n",
              "                    'legs': None,\n",
              "                    'limit_price': '150.16',\n",
              "                    'notional': None,\n",
              "                    'order_class': 'bracket',\n",
              "                    'order_type': 'limit',\n",
              "                    'qty': '1',\n",
              "                    'replaced_at': None,\n",
              "                    'replaced_by': None,\n",
              "                    'replaces': None,\n",
              "                    'side': 'sell',\n",
              "                    'status': 'held',\n",
              "                    'stop_price': None,\n",
              "                    'submitted_at': '2021-11-02T13:49:15.091937857Z',\n",
              "                    'symbol': 'AAPL',\n",
              "                    'time_in_force': 'gtc',\n",
              "                    'trail_percent': None,\n",
              "                    'trail_price': None,\n",
              "                    'type': 'limit',\n",
              "                    'updated_at': '2021-11-02T13:49:15.093389587Z'},\n",
              "                {   'asset_class': 'us_equity',\n",
              "                    'asset_id': 'b0b6dd9d-8b9b-48a9-ba46-b9d54906e415',\n",
              "                    'canceled_at': None,\n",
              "                    'client_order_id': 'f16ec70b-044b-46b4-9992-3993ddfc68f1',\n",
              "                    'created_at': '2021-11-02T13:49:15.093433367Z',\n",
              "                    'expired_at': None,\n",
              "                    'extended_hours': False,\n",
              "                    'failed_at': None,\n",
              "                    'filled_at': None,\n",
              "                    'filled_avg_price': None,\n",
              "                    'filled_qty': '0',\n",
              "                    'hwm': None,\n",
              "                    'id': 'bf66b266-3574-4051-b40e-deddf0ef90f9',\n",
              "                    'legs': None,\n",
              "                    'limit_price': None,\n",
              "                    'notional': None,\n",
              "                    'order_class': 'bracket',\n",
              "                    'order_type': 'stop',\n",
              "                    'qty': '1',\n",
              "                    'replaced_at': None,\n",
              "                    'replaced_by': None,\n",
              "                    'replaces': None,\n",
              "                    'side': 'sell',\n",
              "                    'status': 'held',\n",
              "                    'stop_price': '143.14',\n",
              "                    'submitted_at': '2021-11-02T13:49:15.091937857Z',\n",
              "                    'symbol': 'AAPL',\n",
              "                    'time_in_force': 'gtc',\n",
              "                    'trail_percent': None,\n",
              "                    'trail_price': None,\n",
              "                    'type': 'stop',\n",
              "                    'updated_at': '2021-11-02T13:49:15.093433367Z'}],\n",
              "    'limit_price': '146.65',\n",
              "    'notional': None,\n",
              "    'order_class': 'bracket',\n",
              "    'order_type': 'limit',\n",
              "    'qty': '1',\n",
              "    'replaced_at': None,\n",
              "    'replaced_by': None,\n",
              "    'replaces': None,\n",
              "    'side': 'buy',\n",
              "    'status': 'accepted',\n",
              "    'stop_price': None,\n",
              "    'submitted_at': '2021-11-02T13:49:15.091937857Z',\n",
              "    'symbol': 'AAPL',\n",
              "    'time_in_force': 'gtc',\n",
              "    'trail_percent': None,\n",
              "    'trail_price': None,\n",
              "    'type': 'limit',\n",
              "    'updated_at': '2021-11-02T13:49:15.093301537Z'})"
            ]
          },
          "execution_count": 12,
          "metadata": {},
          "output_type": "execute_result"
        }
      ]
    },
    {
      "cell_type": "markdown",
      "metadata": {
        "id": "SrZtSHnjl67U"
      },
      "source": [
        "###Bollinger Bands strat"
      ]
    },
    {
      "cell_type": "code",
      "metadata": {
        "colab": {
          "base_uri": "https://localhost:8080/",
          "height": 266
        },
        "id": "vOFLhSRnl-Q3",
        "outputId": "1177737e-9589-467f-8691-da6df99bac75"
      },
      "source": [
        "aapl = api.get_barset('AAPL', 'day')\n",
        "aapl.df.tail()"
      ],
      "execution_count": null,
      "outputs": [
        {
          "output_type": "execute_result",
          "data": {
            "text/html": [
              "<div>\n",
              "<style scoped>\n",
              "    .dataframe tbody tr th:only-of-type {\n",
              "        vertical-align: middle;\n",
              "    }\n",
              "\n",
              "    .dataframe tbody tr th {\n",
              "        vertical-align: top;\n",
              "    }\n",
              "\n",
              "    .dataframe thead tr th {\n",
              "        text-align: left;\n",
              "    }\n",
              "\n",
              "    .dataframe thead tr:last-of-type th {\n",
              "        text-align: right;\n",
              "    }\n",
              "</style>\n",
              "<table border=\"1\" class=\"dataframe\">\n",
              "  <thead>\n",
              "    <tr>\n",
              "      <th></th>\n",
              "      <th colspan=\"5\" halign=\"left\">AAPL</th>\n",
              "    </tr>\n",
              "    <tr>\n",
              "      <th></th>\n",
              "      <th>open</th>\n",
              "      <th>high</th>\n",
              "      <th>low</th>\n",
              "      <th>close</th>\n",
              "      <th>volume</th>\n",
              "    </tr>\n",
              "    <tr>\n",
              "      <th>time</th>\n",
              "      <th></th>\n",
              "      <th></th>\n",
              "      <th></th>\n",
              "      <th></th>\n",
              "      <th></th>\n",
              "    </tr>\n",
              "  </thead>\n",
              "  <tbody>\n",
              "    <tr>\n",
              "      <th>2021-10-27 00:00:00-04:00</th>\n",
              "      <td>149.380</td>\n",
              "      <td>149.730</td>\n",
              "      <td>148.4900</td>\n",
              "      <td>148.8500</td>\n",
              "      <td>43201783</td>\n",
              "    </tr>\n",
              "    <tr>\n",
              "      <th>2021-10-28 00:00:00-04:00</th>\n",
              "      <td>149.860</td>\n",
              "      <td>153.165</td>\n",
              "      <td>149.7200</td>\n",
              "      <td>152.4766</td>\n",
              "      <td>77772052</td>\n",
              "    </tr>\n",
              "    <tr>\n",
              "      <th>2021-10-29 00:00:00-04:00</th>\n",
              "      <td>147.190</td>\n",
              "      <td>149.940</td>\n",
              "      <td>146.4128</td>\n",
              "      <td>149.8000</td>\n",
              "      <td>104258290</td>\n",
              "    </tr>\n",
              "    <tr>\n",
              "      <th>2021-11-01 00:00:00-04:00</th>\n",
              "      <td>148.985</td>\n",
              "      <td>149.700</td>\n",
              "      <td>147.8000</td>\n",
              "      <td>148.9900</td>\n",
              "      <td>57758481</td>\n",
              "    </tr>\n",
              "    <tr>\n",
              "      <th>2021-11-02 00:00:00-04:00</th>\n",
              "      <td>148.670</td>\n",
              "      <td>151.570</td>\n",
              "      <td>148.6500</td>\n",
              "      <td>150.9850</td>\n",
              "      <td>44240762</td>\n",
              "    </tr>\n",
              "  </tbody>\n",
              "</table>\n",
              "</div>"
            ],
            "text/plain": [
              "                              AAPL                                        \n",
              "                              open     high       low     close     volume\n",
              "time                                                                      \n",
              "2021-10-27 00:00:00-04:00  149.380  149.730  148.4900  148.8500   43201783\n",
              "2021-10-28 00:00:00-04:00  149.860  153.165  149.7200  152.4766   77772052\n",
              "2021-10-29 00:00:00-04:00  147.190  149.940  146.4128  149.8000  104258290\n",
              "2021-11-01 00:00:00-04:00  148.985  149.700  147.8000  148.9900   57758481\n",
              "2021-11-02 00:00:00-04:00  148.670  151.570  148.6500  150.9850   44240762"
            ]
          },
          "metadata": {},
          "execution_count": 56
        }
      ]
    },
    {
      "cell_type": "code",
      "metadata": {
        "colab": {
          "base_uri": "https://localhost:8080/"
        },
        "id": "5WNwuKqbnJiy",
        "outputId": "208147b5-6257-452d-8177-ea447de10366"
      },
      "source": [
        "MA = aapl.df.AAPL.close.rolling(20).mean().tail()\n",
        "STD = aapl.df.AAPL.close.rolling(20).std().tail()\n",
        "\n",
        "today_MA = MA[len(MA)-1]\n",
        "today_STD = STD[len(STD)-1]\n",
        "\n",
        "curr_price = aapl.df.AAPL.close[-1]\n",
        "\n",
        "print(\"Curr price: \" + str(curr_price))\n",
        "\n",
        "print(\"Moving Average: \" + str(today_MA) + \"\\nStd: \" + str(today_STD))\n",
        "upper_band = today_MA + (today_STD*2)\n",
        "lower_band = today_MA - (today_STD*2)\n",
        "print(\"Upper Band: \" + str(upper_band) + \", Lower Band: \" + str(lower_band))\n"
      ],
      "execution_count": null,
      "outputs": [
        {
          "output_type": "stream",
          "name": "stdout",
          "text": [
            "Curr price: 150.985\n",
            "Moving Average: 146.69585000000004\n",
            "Std: 3.5525695464876947\n",
            "Upper Band: 153.8009890929754, Lower Band: 139.59071090702466\n"
          ]
        }
      ]
    },
    {
      "cell_type": "code",
      "metadata": {
        "colab": {
          "base_uri": "https://localhost:8080/"
        },
        "id": "T2vgRjehnsXH",
        "outputId": "b3459e8c-a5e2-4669-89da-c5f505fff7f3"
      },
      "source": [
        "accnt_balance = float (api.get_account().buying_power)\n",
        "weight = 0.10\n",
        "quantity = int((accnt_balance * weight) / curr_price)\n",
        "\n",
        "if(curr_price>upper_band):\n",
        "\n",
        "  api.submit_order(symbol='AAPL',\n",
        "\t\tqty=quantity,\n",
        "\t\tside='sell',\n",
        "\t\ttime_in_force='gtc',\n",
        "\t\ttype='limit',\n",
        "\t\tlimit_price=curr_price)\n",
        "\n",
        "\n",
        "elif (curr_price < lower_band):\n",
        "  api.submit_order(symbol='AAPL',\n",
        "\t\tqty=quantity,\n",
        "\t\tside='buy',\n",
        "\t\ttime_in_force='gtc',\n",
        "\t\ttype='limit',\n",
        "\t\tlimit_price=curr_price)\n",
        "  print(\"bought\", quantity, \"shares\")\n",
        "\n",
        "else:\n",
        "  print(\"Between Thresholds, do nothing\")\n",
        "\n"
      ],
      "execution_count": null,
      "outputs": [
        {
          "output_type": "stream",
          "name": "stdout",
          "text": [
            "sold 11 shares\n"
          ]
        }
      ]
    },
    {
      "cell_type": "markdown",
      "metadata": {
        "id": "1ovEAJwi3wdX"
      },
      "source": [
        "## Linear Reg Modeling"
      ]
    },
    {
      "cell_type": "markdown",
      "metadata": {
        "id": "OglFFbZwkB1r"
      },
      "source": [
        "Auto Regression (10) Yash Sharma"
      ]
    },
    {
      "cell_type": "code",
      "metadata": {
        "colab": {
          "base_uri": "https://localhost:8080/",
          "height": 450
        },
        "id": "cfZfypvI3u6s",
        "outputId": "ed5d4f6d-a911-494c-fc24-652331678b5f"
      },
      "source": [
        "'''\n",
        "GET DATA\n",
        "Connecting to server for stock price data\n",
        "'''\n",
        "key = 'PK5DSEQFYZ3C7Q32LT7Q'\n",
        "secret_key = 'sxX1VhQLlfNM9yqTaKV1YjGlHwQiImklGoqFCFjQ'\n",
        "endpoint = \"https://paper-api.alpaca.markets\"\n",
        "api = alpaca.REST(key, secret_key, endpoint, api_version='v2')\n",
        "# account = api.get_account()\n",
        "order_id = 1\n",
        "\n",
        "'''\n",
        "Getting daily apple data post stock split in 2020 :)\n",
        "'''\n",
        "aapl = api.get_bars('AAPL', alpaca.rest.TimeFrame.Day, '2020-09-09', '2021-11-01', adjustment='raw')\n",
        "aapl.df"
      ],
      "execution_count": null,
      "outputs": [
        {
          "output_type": "execute_result",
          "data": {
            "text/html": [
              "<div>\n",
              "<style scoped>\n",
              "    .dataframe tbody tr th:only-of-type {\n",
              "        vertical-align: middle;\n",
              "    }\n",
              "\n",
              "    .dataframe tbody tr th {\n",
              "        vertical-align: top;\n",
              "    }\n",
              "\n",
              "    .dataframe thead th {\n",
              "        text-align: right;\n",
              "    }\n",
              "</style>\n",
              "<table border=\"1\" class=\"dataframe\">\n",
              "  <thead>\n",
              "    <tr style=\"text-align: right;\">\n",
              "      <th></th>\n",
              "      <th>open</th>\n",
              "      <th>high</th>\n",
              "      <th>low</th>\n",
              "      <th>close</th>\n",
              "      <th>volume</th>\n",
              "      <th>trade_count</th>\n",
              "      <th>vwap</th>\n",
              "    </tr>\n",
              "    <tr>\n",
              "      <th>timestamp</th>\n",
              "      <th></th>\n",
              "      <th></th>\n",
              "      <th></th>\n",
              "      <th></th>\n",
              "      <th></th>\n",
              "      <th></th>\n",
              "      <th></th>\n",
              "    </tr>\n",
              "  </thead>\n",
              "  <tbody>\n",
              "    <tr>\n",
              "      <th>2020-09-09 04:00:00+00:00</th>\n",
              "      <td>117.30</td>\n",
              "      <td>119.140</td>\n",
              "      <td>115.2600</td>\n",
              "      <td>117.320</td>\n",
              "      <td>176969416</td>\n",
              "      <td>1308850</td>\n",
              "      <td>117.415621</td>\n",
              "    </tr>\n",
              "    <tr>\n",
              "      <th>2020-09-10 04:00:00+00:00</th>\n",
              "      <td>120.37</td>\n",
              "      <td>120.500</td>\n",
              "      <td>112.5000</td>\n",
              "      <td>113.420</td>\n",
              "      <td>182314907</td>\n",
              "      <td>1444582</td>\n",
              "      <td>116.045166</td>\n",
              "    </tr>\n",
              "    <tr>\n",
              "      <th>2020-09-11 04:00:00+00:00</th>\n",
              "      <td>114.68</td>\n",
              "      <td>115.230</td>\n",
              "      <td>110.0000</td>\n",
              "      <td>112.000</td>\n",
              "      <td>180861505</td>\n",
              "      <td>1405593</td>\n",
              "      <td>112.042042</td>\n",
              "    </tr>\n",
              "    <tr>\n",
              "      <th>2020-09-14 04:00:00+00:00</th>\n",
              "      <td>114.78</td>\n",
              "      <td>115.930</td>\n",
              "      <td>112.8000</td>\n",
              "      <td>115.355</td>\n",
              "      <td>140153151</td>\n",
              "      <td>1013529</td>\n",
              "      <td>114.579470</td>\n",
              "    </tr>\n",
              "    <tr>\n",
              "      <th>2020-09-15 04:00:00+00:00</th>\n",
              "      <td>118.38</td>\n",
              "      <td>118.829</td>\n",
              "      <td>113.6100</td>\n",
              "      <td>115.540</td>\n",
              "      <td>184699355</td>\n",
              "      <td>1290608</td>\n",
              "      <td>116.418682</td>\n",
              "    </tr>\n",
              "    <tr>\n",
              "      <th>...</th>\n",
              "      <td>...</td>\n",
              "      <td>...</td>\n",
              "      <td>...</td>\n",
              "      <td>...</td>\n",
              "      <td>...</td>\n",
              "      <td>...</td>\n",
              "      <td>...</td>\n",
              "    </tr>\n",
              "    <tr>\n",
              "      <th>2021-10-26 04:00:00+00:00</th>\n",
              "      <td>149.33</td>\n",
              "      <td>150.840</td>\n",
              "      <td>149.0101</td>\n",
              "      <td>149.320</td>\n",
              "      <td>60332588</td>\n",
              "      <td>454831</td>\n",
              "      <td>149.591198</td>\n",
              "    </tr>\n",
              "    <tr>\n",
              "      <th>2021-10-27 04:00:00+00:00</th>\n",
              "      <td>149.32</td>\n",
              "      <td>149.730</td>\n",
              "      <td>148.4900</td>\n",
              "      <td>148.850</td>\n",
              "      <td>55623366</td>\n",
              "      <td>403046</td>\n",
              "      <td>149.119103</td>\n",
              "    </tr>\n",
              "    <tr>\n",
              "      <th>2021-10-28 04:00:00+00:00</th>\n",
              "      <td>149.72</td>\n",
              "      <td>153.165</td>\n",
              "      <td>149.7200</td>\n",
              "      <td>152.570</td>\n",
              "      <td>99567181</td>\n",
              "      <td>745271</td>\n",
              "      <td>151.590102</td>\n",
              "    </tr>\n",
              "    <tr>\n",
              "      <th>2021-10-29 04:00:00+00:00</th>\n",
              "      <td>147.05</td>\n",
              "      <td>149.940</td>\n",
              "      <td>146.4128</td>\n",
              "      <td>149.800</td>\n",
              "      <td>124268949</td>\n",
              "      <td>858642</td>\n",
              "      <td>148.328795</td>\n",
              "    </tr>\n",
              "    <tr>\n",
              "      <th>2021-11-01 04:00:00+00:00</th>\n",
              "      <td>148.86</td>\n",
              "      <td>149.700</td>\n",
              "      <td>147.8000</td>\n",
              "      <td>148.960</td>\n",
              "      <td>74201074</td>\n",
              "      <td>526363</td>\n",
              "      <td>148.811069</td>\n",
              "    </tr>\n",
              "  </tbody>\n",
              "</table>\n",
              "<p>290 rows × 7 columns</p>\n",
              "</div>"
            ],
            "text/plain": [
              "                             open     high  ...  trade_count        vwap\n",
              "timestamp                                   ...                         \n",
              "2020-09-09 04:00:00+00:00  117.30  119.140  ...      1308850  117.415621\n",
              "2020-09-10 04:00:00+00:00  120.37  120.500  ...      1444582  116.045166\n",
              "2020-09-11 04:00:00+00:00  114.68  115.230  ...      1405593  112.042042\n",
              "2020-09-14 04:00:00+00:00  114.78  115.930  ...      1013529  114.579470\n",
              "2020-09-15 04:00:00+00:00  118.38  118.829  ...      1290608  116.418682\n",
              "...                           ...      ...  ...          ...         ...\n",
              "2021-10-26 04:00:00+00:00  149.33  150.840  ...       454831  149.591198\n",
              "2021-10-27 04:00:00+00:00  149.32  149.730  ...       403046  149.119103\n",
              "2021-10-28 04:00:00+00:00  149.72  153.165  ...       745271  151.590102\n",
              "2021-10-29 04:00:00+00:00  147.05  149.940  ...       858642  148.328795\n",
              "2021-11-01 04:00:00+00:00  148.86  149.700  ...       526363  148.811069\n",
              "\n",
              "[290 rows x 7 columns]"
            ]
          },
          "metadata": {},
          "execution_count": 5
        }
      ]
    },
    {
      "cell_type": "code",
      "metadata": {
        "colab": {
          "base_uri": "https://localhost:8080/",
          "height": 419
        },
        "id": "d8ZH3s8d35Nu",
        "outputId": "4fef343a-056d-40f3-9f88-89284a078b16"
      },
      "source": [
        "'''\n",
        "CLEAN DATA\n",
        "Copying Series, making timestamp into its own index w/in a new data frame\n",
        "'''\n",
        "closers = aapl.df['close'].copy()\n",
        "closers = closers.reset_index(level=0, inplace=False) # creates new col for timestamp\n",
        "closers"
      ],
      "execution_count": null,
      "outputs": [
        {
          "output_type": "execute_result",
          "data": {
            "text/html": [
              "<div>\n",
              "<style scoped>\n",
              "    .dataframe tbody tr th:only-of-type {\n",
              "        vertical-align: middle;\n",
              "    }\n",
              "\n",
              "    .dataframe tbody tr th {\n",
              "        vertical-align: top;\n",
              "    }\n",
              "\n",
              "    .dataframe thead th {\n",
              "        text-align: right;\n",
              "    }\n",
              "</style>\n",
              "<table border=\"1\" class=\"dataframe\">\n",
              "  <thead>\n",
              "    <tr style=\"text-align: right;\">\n",
              "      <th></th>\n",
              "      <th>timestamp</th>\n",
              "      <th>close</th>\n",
              "    </tr>\n",
              "  </thead>\n",
              "  <tbody>\n",
              "    <tr>\n",
              "      <th>0</th>\n",
              "      <td>2020-09-09 04:00:00+00:00</td>\n",
              "      <td>117.320</td>\n",
              "    </tr>\n",
              "    <tr>\n",
              "      <th>1</th>\n",
              "      <td>2020-09-10 04:00:00+00:00</td>\n",
              "      <td>113.420</td>\n",
              "    </tr>\n",
              "    <tr>\n",
              "      <th>2</th>\n",
              "      <td>2020-09-11 04:00:00+00:00</td>\n",
              "      <td>112.000</td>\n",
              "    </tr>\n",
              "    <tr>\n",
              "      <th>3</th>\n",
              "      <td>2020-09-14 04:00:00+00:00</td>\n",
              "      <td>115.355</td>\n",
              "    </tr>\n",
              "    <tr>\n",
              "      <th>4</th>\n",
              "      <td>2020-09-15 04:00:00+00:00</td>\n",
              "      <td>115.540</td>\n",
              "    </tr>\n",
              "    <tr>\n",
              "      <th>...</th>\n",
              "      <td>...</td>\n",
              "      <td>...</td>\n",
              "    </tr>\n",
              "    <tr>\n",
              "      <th>285</th>\n",
              "      <td>2021-10-26 04:00:00+00:00</td>\n",
              "      <td>149.320</td>\n",
              "    </tr>\n",
              "    <tr>\n",
              "      <th>286</th>\n",
              "      <td>2021-10-27 04:00:00+00:00</td>\n",
              "      <td>148.850</td>\n",
              "    </tr>\n",
              "    <tr>\n",
              "      <th>287</th>\n",
              "      <td>2021-10-28 04:00:00+00:00</td>\n",
              "      <td>152.570</td>\n",
              "    </tr>\n",
              "    <tr>\n",
              "      <th>288</th>\n",
              "      <td>2021-10-29 04:00:00+00:00</td>\n",
              "      <td>149.800</td>\n",
              "    </tr>\n",
              "    <tr>\n",
              "      <th>289</th>\n",
              "      <td>2021-11-01 04:00:00+00:00</td>\n",
              "      <td>148.960</td>\n",
              "    </tr>\n",
              "  </tbody>\n",
              "</table>\n",
              "<p>290 rows × 2 columns</p>\n",
              "</div>"
            ],
            "text/plain": [
              "                    timestamp    close\n",
              "0   2020-09-09 04:00:00+00:00  117.320\n",
              "1   2020-09-10 04:00:00+00:00  113.420\n",
              "2   2020-09-11 04:00:00+00:00  112.000\n",
              "3   2020-09-14 04:00:00+00:00  115.355\n",
              "4   2020-09-15 04:00:00+00:00  115.540\n",
              "..                        ...      ...\n",
              "285 2021-10-26 04:00:00+00:00  149.320\n",
              "286 2021-10-27 04:00:00+00:00  148.850\n",
              "287 2021-10-28 04:00:00+00:00  152.570\n",
              "288 2021-10-29 04:00:00+00:00  149.800\n",
              "289 2021-11-01 04:00:00+00:00  148.960\n",
              "\n",
              "[290 rows x 2 columns]"
            ]
          },
          "metadata": {},
          "execution_count": 6
        }
      ]
    },
    {
      "cell_type": "code",
      "metadata": {
        "colab": {
          "base_uri": "https://localhost:8080/",
          "height": 1000
        },
        "id": "9V2VnfTA37o8",
        "outputId": "297f6105-ec07-49c9-e112-49db01be2289"
      },
      "source": [
        "from statsmodels.tsa.ar_model import AutoReg\n",
        "from sklearn.metrics import mean_squared_error\n",
        "import matplotlib.pyplot as plt\n",
        "\n",
        "model = AutoReg(closers['close'], lags=10)\n",
        "model = model.fit()\n",
        "\n",
        "predictions = model.predict(start=0, end=len(closers['close']), dynamic=False)\n",
        "\n",
        "plt.figure(figsize=(20,20))\n",
        "plt.plot(closers['close'], label='Prices')\n",
        "plt.ylim(110,150)\n",
        "\n",
        "plt.plot(predictions, label='Predictions', color='r')\n",
        "plt.legend(bbox_to_anchor=(1.05,1))\n",
        "plt.show()"
      ],
      "execution_count": null,
      "outputs": [
        {
          "output_type": "display_data",
          "data": {
            "image/png": "[encoded data removed]",
            "text/plain": [
              "<Figure size 1440x1440 with 1 Axes>"
            ]
          },
          "metadata": {
            "needs_background": "light"
          }
        }
      ]
    },
    {
      "cell_type": "markdown",
      "metadata": {
        "id": "X2BJES0gEU_g"
      },
      "source": [
        "## Backtesting"
      ]
    },
    {
      "cell_type": "code",
      "metadata": {
        "id": "-Xu0RMwsDDEd"
      },
      "source": [
        "fromdate = datetime.datetime(2020,8,5)\n",
        "todate = datetime.datetime(2020,8,10)\n",
        "\n",
        "tickers = ['SPY']\n",
        "timeframes = {\n",
        "    '30Min':30,\n",
        "}"
      ],
      "execution_count": null,
      "outputs": []
    },
    {
      "cell_type": "code",
      "metadata": {
        "id": "BrBTDcLeEeMx"
      },
      "source": [
        "class RSIStack(bt.Strategy):\n",
        "  def next(self):\n",
        "    print(\"IN\")\n",
        "    self.buy()\n",
        "    for i in range(0,len(self.datas)):\n",
        "        print(f'{self.datas[i].datetime.datetime(ago=0)} \\\n",
        "        {self.datas[i].p.dataname}: OHLC: \\\n",
        "              o:{self.datas[i].open[0]} \\\n",
        "              h:{self.datas[i].high[0]} \\\n",
        "              l:{self.datas[i].low[0]} \\\n",
        "              c:{self.datas[i].close[0]} \\\n",
        "              v:{self.datas[i].volume[0]}' )\n",
        "\n",
        "cerebro = bt.Cerebro()\n",
        "cerebro.addstrategy(RSIStack)\n",
        "cerebro.broker.setcash(100000)\n",
        "cerebro.broker.setcommission(commission=0.0)\n"
      ],
      "execution_count": null,
      "outputs": []
    },
    {
      "cell_type": "code",
      "metadata": {
        "colab": {
          "base_uri": "https://localhost:8080/"
        },
        "id": "JIju5Fl0GVf_",
        "outputId": "799d1e82-17cf-4579-b7e4-f934e6a00c18"
      },
      "source": [
        " from pathlib import Path\n",
        "\n",
        " # Datas are in a subfolder of the samples. Need to find where the script is\n",
        "    # because it could have been called from anywhere\n",
        "modpath = os.path.dirname(os.path.abspath(sys.argv[0]))\n",
        "datapath = os.path.join(modpath, '/orcl-1995-2014.csv')\n",
        "print(\"path: \", datapath)\n",
        "# Create a Data Feed\n",
        "data = bt.feeds.GenericCSVData (dataname='filename.csv', dtformat=1,\n",
        "    # Do not pass values before this date\n",
        "    fromdate=datetime.datetime(2000, 1, 1),\n",
        "    # Do not pass values after this date\n",
        "    todate=datetime.datetime(2000, 12, 31),\n",
        "    reverse=False)\n",
        "cerebro.adddata(data)\n",
        "\n"
      ],
      "execution_count": null,
      "outputs": [
        {
          "output_type": "stream",
          "name": "stdout",
          "text": [
            "path:  /orcl-1995-2014.csv\n"
          ]
        },
        {
          "output_type": "execute_result",
          "data": {
            "text/plain": [
              "<backtrader.feeds.csvgeneric.GenericCSVData at 0x7feb4cde3790>"
            ]
          },
          "metadata": {},
          "execution_count": 60
        }
      ]
    },
    {
      "cell_type": "code",
      "metadata": {
        "colab": {
          "base_uri": "https://localhost:8080/",
          "height": 392
        },
        "id": "-aySO-uHG_mL",
        "outputId": "e97f17b2-3feb-42a9-f184-037855306d3e"
      },
      "source": [
        "print('Starting Portfolio Value: %.2f' % cerebro.broker.getvalue())\n",
        "cerebro.run()\n",
        "print('Final Portfolio Value: %.2f' % cerebro.broker.getvalue())\n",
        "print(cerebro.broker.positions.keys())\n",
        "cerebro.plot()"
      ],
      "execution_count": null,
      "outputs": [
        {
          "output_type": "stream",
          "name": "stdout",
          "text": [
            "Starting Portfolio Value: 100000.00\n"
          ]
        },
        {
          "output_type": "error",
          "ename": "FileNotFoundError",
          "evalue": "ignored",
          "traceback": [
            "\u001b[0;31m---------------------------------------------------------------------------\u001b[0m",
            "\u001b[0;31mFileNotFoundError\u001b[0m                         Traceback (most recent call last)",
            "\u001b[0;32m<ipython-input-50-a781e8199a0b>\u001b[0m in \u001b[0;36m<module>\u001b[0;34m()\u001b[0m\n\u001b[1;32m      1\u001b[0m \u001b[0mprint\u001b[0m\u001b[0;34m(\u001b[0m\u001b[0;34m'Starting Portfolio Value: %.2f'\u001b[0m \u001b[0;34m%\u001b[0m \u001b[0mcerebro\u001b[0m\u001b[0;34m.\u001b[0m\u001b[0mbroker\u001b[0m\u001b[0;34m.\u001b[0m\u001b[0mgetvalue\u001b[0m\u001b[0;34m(\u001b[0m\u001b[0;34m)\u001b[0m\u001b[0;34m)\u001b[0m\u001b[0;34m\u001b[0m\u001b[0;34m\u001b[0m\u001b[0m\n\u001b[0;32m----> 2\u001b[0;31m \u001b[0mcerebro\u001b[0m\u001b[0;34m.\u001b[0m\u001b[0mrun\u001b[0m\u001b[0;34m(\u001b[0m\u001b[0;34m)\u001b[0m\u001b[0;34m\u001b[0m\u001b[0;34m\u001b[0m\u001b[0m\n\u001b[0m\u001b[1;32m      3\u001b[0m \u001b[0mprint\u001b[0m\u001b[0;34m(\u001b[0m\u001b[0;34m'Final Portfolio Value: %.2f'\u001b[0m \u001b[0;34m%\u001b[0m \u001b[0mcerebro\u001b[0m\u001b[0;34m.\u001b[0m\u001b[0mbroker\u001b[0m\u001b[0;34m.\u001b[0m\u001b[0mgetvalue\u001b[0m\u001b[0;34m(\u001b[0m\u001b[0;34m)\u001b[0m\u001b[0;34m)\u001b[0m\u001b[0;34m\u001b[0m\u001b[0;34m\u001b[0m\u001b[0m\n\u001b[1;32m      4\u001b[0m \u001b[0mprint\u001b[0m\u001b[0;34m(\u001b[0m\u001b[0mcerebro\u001b[0m\u001b[0;34m.\u001b[0m\u001b[0mbroker\u001b[0m\u001b[0;34m.\u001b[0m\u001b[0mpositions\u001b[0m\u001b[0;34m.\u001b[0m\u001b[0mkeys\u001b[0m\u001b[0;34m(\u001b[0m\u001b[0;34m)\u001b[0m\u001b[0;34m)\u001b[0m\u001b[0;34m\u001b[0m\u001b[0;34m\u001b[0m\u001b[0m\n\u001b[1;32m      5\u001b[0m \u001b[0mcerebro\u001b[0m\u001b[0;34m.\u001b[0m\u001b[0mplot\u001b[0m\u001b[0;34m(\u001b[0m\u001b[0;34m)\u001b[0m\u001b[0;34m\u001b[0m\u001b[0;34m\u001b[0m\u001b[0m\n",
            "\u001b[0;32m/usr/local/lib/python3.7/dist-packages/backtrader/cerebro.py\u001b[0m in \u001b[0;36mrun\u001b[0;34m(self, **kwargs)\u001b[0m\n\u001b[1;32m   1125\u001b[0m             \u001b[0;31m# let's skip process \"spawning\"\u001b[0m\u001b[0;34m\u001b[0m\u001b[0;34m\u001b[0m\u001b[0;34m\u001b[0m\u001b[0m\n\u001b[1;32m   1126\u001b[0m             \u001b[0;32mfor\u001b[0m \u001b[0miterstrat\u001b[0m \u001b[0;32min\u001b[0m \u001b[0miterstrats\u001b[0m\u001b[0;34m:\u001b[0m\u001b[0;34m\u001b[0m\u001b[0;34m\u001b[0m\u001b[0m\n\u001b[0;32m-> 1127\u001b[0;31m                 \u001b[0mrunstrat\u001b[0m \u001b[0;34m=\u001b[0m \u001b[0mself\u001b[0m\u001b[0;34m.\u001b[0m\u001b[0mrunstrategies\u001b[0m\u001b[0;34m(\u001b[0m\u001b[0miterstrat\u001b[0m\u001b[0;34m)\u001b[0m\u001b[0;34m\u001b[0m\u001b[0;34m\u001b[0m\u001b[0m\n\u001b[0m\u001b[1;32m   1128\u001b[0m                 \u001b[0mself\u001b[0m\u001b[0;34m.\u001b[0m\u001b[0mrunstrats\u001b[0m\u001b[0;34m.\u001b[0m\u001b[0mappend\u001b[0m\u001b[0;34m(\u001b[0m\u001b[0mrunstrat\u001b[0m\u001b[0;34m)\u001b[0m\u001b[0;34m\u001b[0m\u001b[0;34m\u001b[0m\u001b[0m\n\u001b[1;32m   1129\u001b[0m                 \u001b[0;32mif\u001b[0m \u001b[0mself\u001b[0m\u001b[0;34m.\u001b[0m\u001b[0m_dooptimize\u001b[0m\u001b[0;34m:\u001b[0m\u001b[0;34m\u001b[0m\u001b[0;34m\u001b[0m\u001b[0m\n",
            "\u001b[0;32m/usr/local/lib/python3.7/dist-packages/backtrader/cerebro.py\u001b[0m in \u001b[0;36mrunstrategies\u001b[0;34m(self, iterstrat, predata)\u001b[0m\n\u001b[1;32m   1208\u001b[0m                 \u001b[0;32mif\u001b[0m \u001b[0mself\u001b[0m\u001b[0;34m.\u001b[0m\u001b[0m_exactbars\u001b[0m \u001b[0;34m<\u001b[0m \u001b[0;36m1\u001b[0m\u001b[0;34m:\u001b[0m  \u001b[0;31m# datas can be full length\u001b[0m\u001b[0;34m\u001b[0m\u001b[0;34m\u001b[0m\u001b[0m\n\u001b[1;32m   1209\u001b[0m                     \u001b[0mdata\u001b[0m\u001b[0;34m.\u001b[0m\u001b[0mextend\u001b[0m\u001b[0;34m(\u001b[0m\u001b[0msize\u001b[0m\u001b[0;34m=\u001b[0m\u001b[0mself\u001b[0m\u001b[0;34m.\u001b[0m\u001b[0mparams\u001b[0m\u001b[0;34m.\u001b[0m\u001b[0mlookahead\u001b[0m\u001b[0;34m)\u001b[0m\u001b[0;34m\u001b[0m\u001b[0;34m\u001b[0m\u001b[0m\n\u001b[0;32m-> 1210\u001b[0;31m                 \u001b[0mdata\u001b[0m\u001b[0;34m.\u001b[0m\u001b[0m_start\u001b[0m\u001b[0;34m(\u001b[0m\u001b[0;34m)\u001b[0m\u001b[0;34m\u001b[0m\u001b[0;34m\u001b[0m\u001b[0m\n\u001b[0m\u001b[1;32m   1211\u001b[0m                 \u001b[0;32mif\u001b[0m \u001b[0mself\u001b[0m\u001b[0;34m.\u001b[0m\u001b[0m_dopreload\u001b[0m\u001b[0;34m:\u001b[0m\u001b[0;34m\u001b[0m\u001b[0;34m\u001b[0m\u001b[0m\n\u001b[1;32m   1212\u001b[0m                     \u001b[0mdata\u001b[0m\u001b[0;34m.\u001b[0m\u001b[0mpreload\u001b[0m\u001b[0;34m(\u001b[0m\u001b[0;34m)\u001b[0m\u001b[0;34m\u001b[0m\u001b[0;34m\u001b[0m\u001b[0m\n",
            "\u001b[0;32m/usr/local/lib/python3.7/dist-packages/backtrader/feed.py\u001b[0m in \u001b[0;36m_start\u001b[0;34m(self)\u001b[0m\n\u001b[1;32m    201\u001b[0m \u001b[0;34m\u001b[0m\u001b[0m\n\u001b[1;32m    202\u001b[0m     \u001b[0;32mdef\u001b[0m \u001b[0m_start\u001b[0m\u001b[0;34m(\u001b[0m\u001b[0mself\u001b[0m\u001b[0;34m)\u001b[0m\u001b[0;34m:\u001b[0m\u001b[0;34m\u001b[0m\u001b[0;34m\u001b[0m\u001b[0m\n\u001b[0;32m--> 203\u001b[0;31m         \u001b[0mself\u001b[0m\u001b[0;34m.\u001b[0m\u001b[0mstart\u001b[0m\u001b[0;34m(\u001b[0m\u001b[0;34m)\u001b[0m\u001b[0;34m\u001b[0m\u001b[0;34m\u001b[0m\u001b[0m\n\u001b[0m\u001b[1;32m    204\u001b[0m \u001b[0;34m\u001b[0m\u001b[0m\n\u001b[1;32m    205\u001b[0m         \u001b[0;32mif\u001b[0m \u001b[0;32mnot\u001b[0m \u001b[0mself\u001b[0m\u001b[0;34m.\u001b[0m\u001b[0m_started\u001b[0m\u001b[0;34m:\u001b[0m\u001b[0;34m\u001b[0m\u001b[0;34m\u001b[0m\u001b[0m\n",
            "\u001b[0;32m/usr/local/lib/python3.7/dist-packages/backtrader/feeds/csvgeneric.py\u001b[0m in \u001b[0;36mstart\u001b[0;34m(self)\u001b[0m\n\u001b[1;32m     86\u001b[0m \u001b[0;34m\u001b[0m\u001b[0m\n\u001b[1;32m     87\u001b[0m     \u001b[0;32mdef\u001b[0m \u001b[0mstart\u001b[0m\u001b[0;34m(\u001b[0m\u001b[0mself\u001b[0m\u001b[0;34m)\u001b[0m\u001b[0;34m:\u001b[0m\u001b[0;34m\u001b[0m\u001b[0;34m\u001b[0m\u001b[0m\n\u001b[0;32m---> 88\u001b[0;31m         \u001b[0msuper\u001b[0m\u001b[0;34m(\u001b[0m\u001b[0mGenericCSVData\u001b[0m\u001b[0;34m,\u001b[0m \u001b[0mself\u001b[0m\u001b[0;34m)\u001b[0m\u001b[0;34m.\u001b[0m\u001b[0mstart\u001b[0m\u001b[0;34m(\u001b[0m\u001b[0;34m)\u001b[0m\u001b[0;34m\u001b[0m\u001b[0;34m\u001b[0m\u001b[0m\n\u001b[0m\u001b[1;32m     89\u001b[0m \u001b[0;34m\u001b[0m\u001b[0m\n\u001b[1;32m     90\u001b[0m         \u001b[0mself\u001b[0m\u001b[0;34m.\u001b[0m\u001b[0m_dtstr\u001b[0m \u001b[0;34m=\u001b[0m \u001b[0;32mFalse\u001b[0m\u001b[0;34m\u001b[0m\u001b[0;34m\u001b[0m\u001b[0m\n",
            "\u001b[0;32m/usr/local/lib/python3.7/dist-packages/backtrader/feed.py\u001b[0m in \u001b[0;36mstart\u001b[0;34m(self)\u001b[0m\n\u001b[1;32m    672\u001b[0m             \u001b[0;32melse\u001b[0m\u001b[0;34m:\u001b[0m\u001b[0;34m\u001b[0m\u001b[0;34m\u001b[0m\u001b[0m\n\u001b[1;32m    673\u001b[0m                 \u001b[0;31m# Let an exception propagate to let the caller know\u001b[0m\u001b[0;34m\u001b[0m\u001b[0;34m\u001b[0m\u001b[0;34m\u001b[0m\u001b[0m\n\u001b[0;32m--> 674\u001b[0;31m                 \u001b[0mself\u001b[0m\u001b[0;34m.\u001b[0m\u001b[0mf\u001b[0m \u001b[0;34m=\u001b[0m \u001b[0mio\u001b[0m\u001b[0;34m.\u001b[0m\u001b[0mopen\u001b[0m\u001b[0;34m(\u001b[0m\u001b[0mself\u001b[0m\u001b[0;34m.\u001b[0m\u001b[0mp\u001b[0m\u001b[0;34m.\u001b[0m\u001b[0mdataname\u001b[0m\u001b[0;34m,\u001b[0m \u001b[0;34m'r'\u001b[0m\u001b[0;34m)\u001b[0m\u001b[0;34m\u001b[0m\u001b[0;34m\u001b[0m\u001b[0m\n\u001b[0m\u001b[1;32m    675\u001b[0m \u001b[0;34m\u001b[0m\u001b[0m\n\u001b[1;32m    676\u001b[0m         \u001b[0;32mif\u001b[0m \u001b[0mself\u001b[0m\u001b[0;34m.\u001b[0m\u001b[0mp\u001b[0m\u001b[0;34m.\u001b[0m\u001b[0mheaders\u001b[0m\u001b[0;34m:\u001b[0m\u001b[0;34m\u001b[0m\u001b[0;34m\u001b[0m\u001b[0m\n",
            "\u001b[0;31mFileNotFoundError\u001b[0m: [Errno 2] No such file or directory: 'filename.csv'"
          ]
        }
      ]
    }
  ]
}