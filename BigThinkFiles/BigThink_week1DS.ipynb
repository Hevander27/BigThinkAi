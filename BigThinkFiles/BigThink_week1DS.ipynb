{
  "cells": [
    {
      "cell_type": "markdown",
      "metadata": {
        "id": "6ni_m0TSku9b"
      },
      "source": [
        "#DataFrame manipulation with Pandas"
      ]
    },
    {
      "cell_type": "markdown",
      "metadata": {
        "id": "kugko_XKla8y"
      },
      "source": [
        "Pandas is a Python library that allows for a wide range of data analysis and manipulation.  While you can build a basic data table using nested lists in Python (similar to an Excel spreadsheet), they become cumbersome to work with. The pandas table data structure — Dataframes allows for easy manipulation of data in a row and column fashion."
      ]
    },
    {
      "cell_type": "markdown",
      "metadata": {
        "id": "iMvQmeadqk--"
      },
      "source": [
        "---\n",
        "To load a CSV file into pandas, you first import the library (the pd alias is customary) and then call the **.read_csv()** function like this:"
      ]
    },
    {
      "cell_type": "code",
      "execution_count": 21,
      "metadata": {},
      "outputs": [],
      "source": [
        "import pandas as pd\n",
        "import matplotlib.pyplot as plt\n",
        "import seaborn as sns\n",
        "import numpy as np"
      ]
    },
    {
      "cell_type": "code",
      "execution_count": 22,
      "metadata": {
        "id": "67ZICoAIWfC9"
      },
      "outputs": [],
      "source": [
        "# Importing data\n",
        "import pandas as pd\n",
        "df = pd.read_csv(r'/watches.csv')\n"
      ]
    },
    {
      "cell_type": "code",
      "execution_count": null,
      "metadata": {},
      "outputs": [],
      "source": [
        "#url = \"http://users.stat.ufl.edu/~winner/data/resid_energy.dat\"\n",
        "#energy_data = pd.read_csv(url, sep=r\"\\s+\", header=None)"
      ]
    },
    {
      "cell_type": "markdown",
      "metadata": {
        "id": "TY-An-Bbkk20"
      },
      "source": [
        "# Introduction\n"
      ]
    },
    {
      "cell_type": "markdown",
      "metadata": {
        "id": "dTGLMZ7gjtZ2"
      },
      "source": [
        "Dataframes allow you to structure and filter data more efficiently than when using pure Python. This efficiency is seen in two distinct ways:\n",
        "\n",
        "Code written using pandas will often run faster than scripts written in pure Python\n",
        "Code written using pandas will often contain far fewer lines of code than the equivalent code written in pure Python."
      ]
    },
    {
      "cell_type": "markdown",
      "metadata": {
        "id": "kq6l_NaVntW1"
      },
      "source": [
        "The pandas library uses two fundamental data structures/objects:\n",
        "\n",
        "1) **Series**\n",
        "\n",
        "2) **DataFrame**\n",
        "\n",
        "A Series object stores single-column data along with an index. The index enumerates the series object.\n",
        "\n",
        "A DataFrame object is a two-dimensional tabular data structure with labeled axes. Conceptually, a DataFrame object can be thought of as a collection of Series objects. Namely,each column in a DataFrame as a single Series object.These Series objects shares a common index - the index of the DataFrame object."
      ]
    },
    {
      "cell_type": "markdown",
      "metadata": {
        "id": "SC9lbjgQncpZ"
      },
      "source": [
        "# Previwing your data\n",
        "\n",
        "**.head()** function is used to get the first n rows. This function returns the first n rows for the object based on position. It is useful for quickly testing if your object has the right type of data in it.\n",
        "\n",
        "---\n",
        "\n",
        "**.tail()** is used to get the last n rows. This function returns last n rows from the object based on position. It is useful for quickly verifying data, for example, after sorting or appending rows."
      ]
    },
    {
      "cell_type": "code",
      "execution_count": 23,
      "metadata": {
        "colab": {
          "base_uri": "https://localhost:8080/",
          "height": 203
        },
        "id": "3wfp8b7HXIdC",
        "outputId": "041245ae-aab4-4fb4-800e-3866fbdfa72e"
      },
      "outputs": [
        {
          "data": {
            "text/html": [
              "<div>\n",
              "<style scoped>\n",
              "    .dataframe tbody tr th:only-of-type {\n",
              "        vertical-align: middle;\n",
              "    }\n",
              "\n",
              "    .dataframe tbody tr th {\n",
              "        vertical-align: top;\n",
              "    }\n",
              "\n",
              "    .dataframe thead th {\n",
              "        text-align: right;\n",
              "    }\n",
              "</style>\n",
              "<table border=\"1\" class=\"dataframe\">\n",
              "  <thead>\n",
              "    <tr style=\"text-align: right;\">\n",
              "      <th></th>\n",
              "      <th>model</th>\n",
              "      <th>store</th>\n",
              "      <th>condition</th>\n",
              "      <th>engagement</th>\n",
              "      <th>price</th>\n",
              "    </tr>\n",
              "  </thead>\n",
              "  <tbody>\n",
              "    <tr>\n",
              "      <th>0</th>\n",
              "      <td>Caracal</td>\n",
              "      <td>Watches unlimited</td>\n",
              "      <td>New</td>\n",
              "      <td>77.848101</td>\n",
              "      <td>489.0</td>\n",
              "    </tr>\n",
              "    <tr>\n",
              "      <th>1</th>\n",
              "      <td>Caracal</td>\n",
              "      <td>National traders</td>\n",
              "      <td>Like new</td>\n",
              "      <td>75.696203</td>\n",
              "      <td>489.0</td>\n",
              "    </tr>\n",
              "    <tr>\n",
              "      <th>2</th>\n",
              "      <td>Caracal</td>\n",
              "      <td>National traders</td>\n",
              "      <td>Good</td>\n",
              "      <td>72.025316</td>\n",
              "      <td>490.5</td>\n",
              "    </tr>\n",
              "    <tr>\n",
              "      <th>3</th>\n",
              "      <td>Lightning bolt</td>\n",
              "      <td>Super deals</td>\n",
              "      <td>Like new</td>\n",
              "      <td>78.987342</td>\n",
              "      <td>501.0</td>\n",
              "    </tr>\n",
              "    <tr>\n",
              "      <th>4</th>\n",
              "      <td>Sand</td>\n",
              "      <td>Super deals</td>\n",
              "      <td>Good</td>\n",
              "      <td>80.126582</td>\n",
              "      <td>502.5</td>\n",
              "    </tr>\n",
              "  </tbody>\n",
              "</table>\n",
              "</div>"
            ],
            "text/plain": [
              "            model              store condition  engagement  price\n",
              "0         Caracal  Watches unlimited       New   77.848101  489.0\n",
              "1         Caracal   National traders  Like new   75.696203  489.0\n",
              "2         Caracal   National traders      Good   72.025316  490.5\n",
              "3  Lightning bolt        Super deals  Like new   78.987342  501.0\n",
              "4            Sand        Super deals      Good   80.126582  502.5"
            ]
          },
          "execution_count": 23,
          "metadata": {},
          "output_type": "execute_result"
        }
      ],
      "source": [
        "df.head()"
      ]
    },
    {
      "cell_type": "code",
      "execution_count": 24,
      "metadata": {
        "colab": {
          "base_uri": "https://localhost:8080/",
          "height": 203
        },
        "id": "GRkiWPloXNOc",
        "outputId": "d1b590f5-2a28-4f0e-aa57-0a292c440ebc"
      },
      "outputs": [
        {
          "data": {
            "text/html": [
              "<div>\n",
              "<style scoped>\n",
              "    .dataframe tbody tr th:only-of-type {\n",
              "        vertical-align: middle;\n",
              "    }\n",
              "\n",
              "    .dataframe tbody tr th {\n",
              "        vertical-align: top;\n",
              "    }\n",
              "\n",
              "    .dataframe thead th {\n",
              "        text-align: right;\n",
              "    }\n",
              "</style>\n",
              "<table border=\"1\" class=\"dataframe\">\n",
              "  <thead>\n",
              "    <tr style=\"text-align: right;\">\n",
              "      <th></th>\n",
              "      <th>model</th>\n",
              "      <th>store</th>\n",
              "      <th>condition</th>\n",
              "      <th>engagement</th>\n",
              "      <th>price</th>\n",
              "    </tr>\n",
              "  </thead>\n",
              "  <tbody>\n",
              "    <tr>\n",
              "      <th>70</th>\n",
              "      <td>Lightning bolt</td>\n",
              "      <td>National traders</td>\n",
              "      <td>Very Good</td>\n",
              "      <td>80.379747</td>\n",
              "      <td>4239.0</td>\n",
              "    </tr>\n",
              "    <tr>\n",
              "      <th>71</th>\n",
              "      <td>Sand</td>\n",
              "      <td>National traders</td>\n",
              "      <td>Good</td>\n",
              "      <td>80.506329</td>\n",
              "      <td>4282.5</td>\n",
              "    </tr>\n",
              "    <tr>\n",
              "      <th>72</th>\n",
              "      <td>Lightning bolt</td>\n",
              "      <td>Watches unlimited</td>\n",
              "      <td>Fair</td>\n",
              "      <td>67.088608</td>\n",
              "      <td>4284.0</td>\n",
              "    </tr>\n",
              "    <tr>\n",
              "      <th>73</th>\n",
              "      <td>Sand</td>\n",
              "      <td>Super deals</td>\n",
              "      <td>Like new</td>\n",
              "      <td>79.493671</td>\n",
              "      <td>835.5</td>\n",
              "    </tr>\n",
              "    <tr>\n",
              "      <th>74</th>\n",
              "      <td>Tempo</td>\n",
              "      <td>Watches unlimited</td>\n",
              "      <td>Good</td>\n",
              "      <td>82.405063</td>\n",
              "      <td>4308.0</td>\n",
              "    </tr>\n",
              "  </tbody>\n",
              "</table>\n",
              "</div>"
            ],
            "text/plain": [
              "             model              store  condition  engagement   price\n",
              "70  Lightning bolt   National traders  Very Good   80.379747  4239.0\n",
              "71            Sand   National traders       Good   80.506329  4282.5\n",
              "72  Lightning bolt  Watches unlimited       Fair   67.088608  4284.0\n",
              "73            Sand        Super deals   Like new   79.493671   835.5\n",
              "74           Tempo  Watches unlimited       Good   82.405063  4308.0"
            ]
          },
          "execution_count": 24,
          "metadata": {},
          "output_type": "execute_result"
        }
      ],
      "source": [
        "df.tail()"
      ]
    },
    {
      "cell_type": "markdown",
      "metadata": {
        "id": "tSmQQx5bq2h1"
      },
      "source": [
        "You can access a column using square brackets and quotes:"
      ]
    },
    {
      "cell_type": "code",
      "execution_count": 25,
      "metadata": {
        "colab": {
          "base_uri": "https://localhost:8080/",
          "height": 0
        },
        "id": "Xwhy5fuUXOca",
        "outputId": "3a38c9c1-5059-4832-819e-36f6d8680847"
      },
      "outputs": [
        {
          "data": {
            "text/plain": [
              "0      489.0\n",
              "1      489.0\n",
              "2      490.5\n",
              "3      501.0\n",
              "4      502.5\n",
              "       ...  \n",
              "70    4239.0\n",
              "71    4282.5\n",
              "72    4284.0\n",
              "73     835.5\n",
              "74    4308.0\n",
              "Name: price, Length: 75, dtype: float64"
            ]
          },
          "execution_count": 25,
          "metadata": {},
          "output_type": "execute_result"
        }
      ],
      "source": [
        "df[\"price\"]"
      ]
    },
    {
      "cell_type": "code",
      "execution_count": 26,
      "metadata": {},
      "outputs": [
        {
          "data": {
            "text/html": [
              "<div>\n",
              "<style scoped>\n",
              "    .dataframe tbody tr th:only-of-type {\n",
              "        vertical-align: middle;\n",
              "    }\n",
              "\n",
              "    .dataframe tbody tr th {\n",
              "        vertical-align: top;\n",
              "    }\n",
              "\n",
              "    .dataframe thead th {\n",
              "        text-align: right;\n",
              "    }\n",
              "</style>\n",
              "<table border=\"1\" class=\"dataframe\">\n",
              "  <thead>\n",
              "    <tr style=\"text-align: right;\">\n",
              "      <th></th>\n",
              "      <th>price</th>\n",
              "      <th>engagement</th>\n",
              "    </tr>\n",
              "  </thead>\n",
              "  <tbody>\n",
              "    <tr>\n",
              "      <th>0</th>\n",
              "      <td>489.0</td>\n",
              "      <td>77.848101</td>\n",
              "    </tr>\n",
              "    <tr>\n",
              "      <th>1</th>\n",
              "      <td>489.0</td>\n",
              "      <td>75.696203</td>\n",
              "    </tr>\n",
              "    <tr>\n",
              "      <th>2</th>\n",
              "      <td>490.5</td>\n",
              "      <td>72.025316</td>\n",
              "    </tr>\n",
              "    <tr>\n",
              "      <th>3</th>\n",
              "      <td>501.0</td>\n",
              "      <td>78.987342</td>\n",
              "    </tr>\n",
              "    <tr>\n",
              "      <th>4</th>\n",
              "      <td>502.5</td>\n",
              "      <td>80.126582</td>\n",
              "    </tr>\n",
              "    <tr>\n",
              "      <th>...</th>\n",
              "      <td>...</td>\n",
              "      <td>...</td>\n",
              "    </tr>\n",
              "    <tr>\n",
              "      <th>70</th>\n",
              "      <td>4239.0</td>\n",
              "      <td>80.379747</td>\n",
              "    </tr>\n",
              "    <tr>\n",
              "      <th>71</th>\n",
              "      <td>4282.5</td>\n",
              "      <td>80.506329</td>\n",
              "    </tr>\n",
              "    <tr>\n",
              "      <th>72</th>\n",
              "      <td>4284.0</td>\n",
              "      <td>67.088608</td>\n",
              "    </tr>\n",
              "    <tr>\n",
              "      <th>73</th>\n",
              "      <td>835.5</td>\n",
              "      <td>79.493671</td>\n",
              "    </tr>\n",
              "    <tr>\n",
              "      <th>74</th>\n",
              "      <td>4308.0</td>\n",
              "      <td>82.405063</td>\n",
              "    </tr>\n",
              "  </tbody>\n",
              "</table>\n",
              "<p>75 rows × 2 columns</p>\n",
              "</div>"
            ],
            "text/plain": [
              "     price  engagement\n",
              "0    489.0   77.848101\n",
              "1    489.0   75.696203\n",
              "2    490.5   72.025316\n",
              "3    501.0   78.987342\n",
              "4    502.5   80.126582\n",
              "..     ...         ...\n",
              "70  4239.0   80.379747\n",
              "71  4282.5   80.506329\n",
              "72  4284.0   67.088608\n",
              "73   835.5   79.493671\n",
              "74  4308.0   82.405063\n",
              "\n",
              "[75 rows x 2 columns]"
            ]
          },
          "execution_count": 26,
          "metadata": {},
          "output_type": "execute_result"
        }
      ],
      "source": [
        "df[[\"price\", \"engagement\"]]"
      ]
    },
    {
      "cell_type": "code",
      "execution_count": 27,
      "metadata": {},
      "outputs": [
        {
          "name": "stdout",
          "output_type": "stream",
          "text": [
            "model          object\n",
            "store          object\n",
            "condition      object\n",
            "engagement    float64\n",
            "price         float64\n",
            "dtype: object\n"
          ]
        }
      ],
      "source": [
        "print(df.dtypes)"
      ]
    },
    {
      "cell_type": "code",
      "execution_count": 28,
      "metadata": {},
      "outputs": [
        {
          "name": "stdout",
          "output_type": "stream",
          "text": [
            "(75, 5)\n"
          ]
        }
      ],
      "source": [
        "print(df.shape)"
      ]
    },
    {
      "cell_type": "markdown",
      "metadata": {},
      "source": [
        "QQ-Plot and Histogram\n",
        "---\n",
        "The Q-Q plot, or quantile-quantile plot, is a graphical tool to help us assess if a set of data plausibly came from some theoretical distribution such as a Normal or exponential.\n",
        "\n",
        "A histogram plot lets you discover, and show, the underlying frequency distribution (shape) of a set of continuous data. Histograms allow for the inspection of data for its underlying distribution (e.g., normal distribution), outliers, skewness, etc\n"
      ]
    },
    {
      "cell_type": "code",
      "execution_count": 29,
      "metadata": {},
      "outputs": [],
      "source": [
        "from scipy import stats"
      ]
    },
    {
      "cell_type": "code",
      "execution_count": 30,
      "metadata": {},
      "outputs": [
        {
          "data": {
            "image/png": "[encoded data removed]",
            "text/plain": [
              "<Figure size 432x288 with 1 Axes>"
            ]
          },
          "metadata": {
            "needs_background": "light"
          },
          "output_type": "display_data"
        }
      ],
      "source": [
        "stats.probplot(x=df['engagement'], dist=\"norm\", plot=plt)\n",
        "plt.title(\"QQ Plot for Engagement\")\n",
        "plt.show()"
      ]
    },
    {
      "cell_type": "code",
      "execution_count": 31,
      "metadata": {},
      "outputs": [
        {
          "data": {
            "image/png": "[encoded data removed]",
            "text/plain": [
              "<Figure size 432x288 with 1 Axes>"
            ]
          },
          "metadata": {
            "needs_background": "light"
          },
          "output_type": "display_data"
        }
      ],
      "source": [
        "stats.probplot(x=df['price'], dist=\"norm\", plot=plt)\n",
        "plt.title(\"QQ Plot for Price\")\n",
        "plt.show()"
      ]
    },
    {
      "cell_type": "code",
      "execution_count": 32,
      "metadata": {},
      "outputs": [
        {
          "data": {
            "text/plain": [
              "Text(78.8607594936709, 15.75, '78.86 (median)')"
            ]
          },
          "execution_count": 32,
          "metadata": {},
          "output_type": "execute_result"
        },
        {
          "data": {
            "image/png": "[encoded data removed]",
            "text/plain": [
              "<Figure size 432x288 with 1 Axes>"
            ]
          },
          "metadata": {
            "needs_background": "light"
          },
          "output_type": "display_data"
        }
      ],
      "source": [
        "vari_price = df['engagement']\n",
        "D_close = vari_price.plot.hist()\n",
        "D_close.set_title('Histogram of Engdgement')\n",
        "D_close.set_xlabel('USD')\n",
        "plt.plot()\n",
        "plt.axvline(vari_price.mean(), color='y', linestyle='solid', linewidth=2)\n",
        "plt.axvline(vari_price.min(), color='r', linestyle='solid', linewidth=2)\n",
        "plt.axvline(vari_price.max(), color='r', linestyle='solid', linewidth=2)\n",
        "plt.axvline(vari_price.median(), color='g', linestyle='solid', linewidth=2)\n",
        "min_ylim, max_ylim = plt.ylim()\n",
        "plt.text(vari_price.mean(), max_ylim*0.9, '{:.2f} (mean)'.format(vari_price.mean()))\n",
        "plt.text(vari_price.max(), max_ylim*1.2, '{:.2f}'.format(vari_price.max()))\n",
        "plt.text(vari_price.min(), max_ylim*1.2, '{:.2f}'.format(vari_price.min()))\n",
        "plt.text(vari_price.median(), max_ylim*0.75, '{:.2f} (median)'.format(vari_price.median()))"
      ]
    },
    {
      "cell_type": "code",
      "execution_count": 33,
      "metadata": {},
      "outputs": [
        {
          "data": {
            "text/plain": [
              "Text(831.0, 31.5, '831.00 (median)')"
            ]
          },
          "execution_count": 33,
          "metadata": {},
          "output_type": "execute_result"
        },
        {
          "data": {
            "image/png": "[encoded data removed]",
            "text/plain": [
              "<Figure size 432x288 with 1 Axes>"
            ]
          },
          "metadata": {
            "needs_background": "light"
          },
          "output_type": "display_data"
        }
      ],
      "source": [
        "vari_price = df['price']\n",
        "D_close = vari_price.plot.hist()\n",
        "D_close.set_title('Histogram of Price')\n",
        "D_close.set_xlabel('USD')\n",
        "plt.plot()\n",
        "plt.axvline(vari_price.mean(), color='y', linestyle='solid', linewidth=2)\n",
        "plt.axvline(vari_price.min(), color='r', linestyle='solid', linewidth=2)\n",
        "plt.axvline(vari_price.max(), color='r', linestyle='solid', linewidth=2)\n",
        "plt.axvline(vari_price.median(), color='g', linestyle='solid', linewidth=2)\n",
        "min_ylim, max_ylim = plt.ylim()\n",
        "plt.text(vari_price.mean(), max_ylim*0.9, '{:.2f} (mean)'.format(vari_price.mean()))\n",
        "plt.text(vari_price.max(), max_ylim*1.2, '{:.2f}'.format(vari_price.max()))\n",
        "plt.text(vari_price.min(), max_ylim*1.2, '{:.2f}'.format(vari_price.min()))\n",
        "plt.text(vari_price.median(), max_ylim*0.75, '{:.2f} (median)'.format(vari_price.median()))"
      ]
    },
    {
      "cell_type": "code",
      "execution_count": 34,
      "metadata": {},
      "outputs": [
        {
          "data": {
            "application/vnd.plotly.v1+json": {
              "config": {
                "plotlyServerURL": "https://plot.ly"
              },
              "data": [
                {
                  "hovertemplate": "store=Watches unlimited<br>price=%{x}<br>engagement=%{y}<extra></extra>",
                  "legendgroup": "Watches unlimited",
                  "marker": {
                    "color": "#636efa",
                    "symbol": "circle"
                  },
                  "mode": "markers",
                  "name": "Watches unlimited",
                  "orientation": "v",
                  "showlegend": true,
                  "type": "scatter",
                  "x": [
                    489,
                    504,
                    510,
                    517.5,
                    529.5,
                    604.5,
                    604.5,
                    829.5,
                    831,
                    4138.5,
                    4138.5,
                    4149,
                    4149,
                    4165.5,
                    4173,
                    4176,
                    4185,
                    4195.5,
                    4207.5,
                    4210.5,
                    4216.5,
                    831,
                    4233,
                    4284,
                    4308
                  ],
                  "xaxis": "x",
                  "y": [
                    77.8481012658228,
                    78.8607594936709,
                    79.4936708860759,
                    77.0886075949367,
                    75.1898734177215,
                    77.4683544303798,
                    79.873417721519,
                    80.126582278481,
                    79.620253164557,
                    78.98734177215191,
                    72.7848101265823,
                    78.3544303797468,
                    77.0886075949367,
                    85.9493670886076,
                    69.746835443038,
                    80.63291139240509,
                    74.4303797468354,
                    77.9746835443038,
                    74.3037974683544,
                    78.3544303797468,
                    83.1645569620253,
                    80.8860759493671,
                    81.01265822784809,
                    67.0886075949367,
                    82.4050632911392
                  ],
                  "yaxis": "y"
                },
                {
                  "hovertemplate": "store=National traders<br>price=%{x}<br>engagement=%{y}<extra></extra>",
                  "legendgroup": "National traders",
                  "marker": {
                    "color": "#EF553B",
                    "symbol": "circle"
                  },
                  "mode": "markers",
                  "name": "National traders",
                  "orientation": "v",
                  "showlegend": true,
                  "type": "scatter",
                  "x": [
                    489,
                    490.5,
                    504,
                    505.5,
                    516,
                    531,
                    532.5,
                    604.5,
                    607.5,
                    607.5,
                    829.5,
                    831,
                    831,
                    4135.5,
                    4135.5,
                    4140,
                    4140,
                    4144.5,
                    4147.5,
                    4183.5,
                    4195.5,
                    4204.5,
                    4216.5,
                    4239,
                    4282.5
                  ],
                  "xaxis": "x",
                  "y": [
                    75.6962025316456,
                    72.0253164556962,
                    79.4936708860759,
                    78.3544303797468,
                    78.7341772151899,
                    76.4556962025316,
                    79.1139240506329,
                    80.7594936708861,
                    75.0632911392405,
                    80,
                    78.22784810126579,
                    79.2405063291139,
                    77.9746835443038,
                    79.1139240506329,
                    69.746835443038,
                    77.8481012658228,
                    77.9746835443038,
                    83.1645569620253,
                    77.4683544303798,
                    83.2911392405063,
                    74.4303797468354,
                    82.4050632911392,
                    86.2025316455696,
                    80.379746835443,
                    80.5063291139241
                  ],
                  "yaxis": "y"
                },
                {
                  "hovertemplate": "store=Super deals<br>price=%{x}<br>engagement=%{y}<extra></extra>",
                  "legendgroup": "Super deals",
                  "marker": {
                    "color": "#00cc96",
                    "symbol": "circle"
                  },
                  "mode": "markers",
                  "name": "Super deals",
                  "orientation": "v",
                  "showlegend": true,
                  "type": "scatter",
                  "x": [
                    501,
                    502.5,
                    505.5,
                    517.5,
                    522,
                    526.5,
                    526.5,
                    528,
                    529.5,
                    603,
                    603,
                    604.5,
                    606,
                    607.5,
                    831,
                    831,
                    4140,
                    4144.5,
                    4144.5,
                    4164,
                    4200,
                    4203,
                    4206,
                    4222.5,
                    835.5
                  ],
                  "xaxis": "x",
                  "y": [
                    78.98734177215191,
                    80.126582278481,
                    82.4050632911392,
                    76.2025316455696,
                    78.48101265822791,
                    79.367088607595,
                    80.126582278481,
                    80.7594936708861,
                    77.2151898734177,
                    81.1392405063291,
                    81.01265822784809,
                    77.3417721518987,
                    78.3544303797468,
                    79.2405063291139,
                    79.620253164557,
                    77.4683544303798,
                    78.1012658227848,
                    81.51898734177209,
                    78.48101265822791,
                    75.5696202531646,
                    74.6835443037975,
                    75.82278481012659,
                    85.1898734177215,
                    82.2784810126582,
                    79.4936708860759
                  ],
                  "yaxis": "y"
                }
              ],
              "layout": {
                "legend": {
                  "title": {
                    "text": "store"
                  },
                  "tracegroupgap": 0
                },
                "margin": {
                  "t": 60
                },
                "template": {
                  "data": {
                    "bar": [
                      {
                        "error_x": {
                          "color": "#2a3f5f"
                        },
                        "error_y": {
                          "color": "#2a3f5f"
                        },
                        "marker": {
                          "line": {
                            "color": "#E5ECF6",
                            "width": 0.5
                          }
                        },
                        "type": "bar"
                      }
                    ],
                    "barpolar": [
                      {
                        "marker": {
                          "line": {
                            "color": "#E5ECF6",
                            "width": 0.5
                          }
                        },
                        "type": "barpolar"
                      }
                    ],
                    "carpet": [
                      {
                        "aaxis": {
                          "endlinecolor": "#2a3f5f",
                          "gridcolor": "white",
                          "linecolor": "white",
                          "minorgridcolor": "white",
                          "startlinecolor": "#2a3f5f"
                        },
                        "baxis": {
                          "endlinecolor": "#2a3f5f",
                          "gridcolor": "white",
                          "linecolor": "white",
                          "minorgridcolor": "white",
                          "startlinecolor": "#2a3f5f"
                        },
                        "type": "carpet"
                      }
                    ],
                    "choropleth": [
                      {
                        "colorbar": {
                          "outlinewidth": 0,
                          "ticks": ""
                        },
                        "type": "choropleth"
                      }
                    ],
                    "contour": [
                      {
                        "colorbar": {
                          "outlinewidth": 0,
                          "ticks": ""
                        },
                        "colorscale": [
                          [
                            0,
                            "#0d0887"
                          ],
                          [
                            0.1111111111111111,
                            "#46039f"
                          ],
                          [
                            0.2222222222222222,
                            "#7201a8"
                          ],
                          [
                            0.3333333333333333,
                            "#9c179e"
                          ],
                          [
                            0.4444444444444444,
                            "#bd3786"
                          ],
                          [
                            0.5555555555555556,
                            "#d8576b"
                          ],
                          [
                            0.6666666666666666,
                            "#ed7953"
                          ],
                          [
                            0.7777777777777778,
                            "#fb9f3a"
                          ],
                          [
                            0.8888888888888888,
                            "#fdca26"
                          ],
                          [
                            1,
                            "#f0f921"
                          ]
                        ],
                        "type": "contour"
                      }
                    ],
                    "contourcarpet": [
                      {
                        "colorbar": {
                          "outlinewidth": 0,
                          "ticks": ""
                        },
                        "type": "contourcarpet"
                      }
                    ],
                    "heatmap": [
                      {
                        "colorbar": {
                          "outlinewidth": 0,
                          "ticks": ""
                        },
                        "colorscale": [
                          [
                            0,
                            "#0d0887"
                          ],
                          [
                            0.1111111111111111,
                            "#46039f"
                          ],
                          [
                            0.2222222222222222,
                            "#7201a8"
                          ],
                          [
                            0.3333333333333333,
                            "#9c179e"
                          ],
                          [
                            0.4444444444444444,
                            "#bd3786"
                          ],
                          [
                            0.5555555555555556,
                            "#d8576b"
                          ],
                          [
                            0.6666666666666666,
                            "#ed7953"
                          ],
                          [
                            0.7777777777777778,
                            "#fb9f3a"
                          ],
                          [
                            0.8888888888888888,
                            "#fdca26"
                          ],
                          [
                            1,
                            "#f0f921"
                          ]
                        ],
                        "type": "heatmap"
                      }
                    ],
                    "heatmapgl": [
                      {
                        "colorbar": {
                          "outlinewidth": 0,
                          "ticks": ""
                        },
                        "colorscale": [
                          [
                            0,
                            "#0d0887"
                          ],
                          [
                            0.1111111111111111,
                            "#46039f"
                          ],
                          [
                            0.2222222222222222,
                            "#7201a8"
                          ],
                          [
                            0.3333333333333333,
                            "#9c179e"
                          ],
                          [
                            0.4444444444444444,
                            "#bd3786"
                          ],
                          [
                            0.5555555555555556,
                            "#d8576b"
                          ],
                          [
                            0.6666666666666666,
                            "#ed7953"
                          ],
                          [
                            0.7777777777777778,
                            "#fb9f3a"
                          ],
                          [
                            0.8888888888888888,
                            "#fdca26"
                          ],
                          [
                            1,
                            "#f0f921"
                          ]
                        ],
                        "type": "heatmapgl"
                      }
                    ],
                    "histogram": [
                      {
                        "marker": {
                          "colorbar": {
                            "outlinewidth": 0,
                            "ticks": ""
                          }
                        },
                        "type": "histogram"
                      }
                    ],
                    "histogram2d": [
                      {
                        "colorbar": {
                          "outlinewidth": 0,
                          "ticks": ""
                        },
                        "colorscale": [
                          [
                            0,
                            "#0d0887"
                          ],
                          [
                            0.1111111111111111,
                            "#46039f"
                          ],
                          [
                            0.2222222222222222,
                            "#7201a8"
                          ],
                          [
                            0.3333333333333333,
                            "#9c179e"
                          ],
                          [
                            0.4444444444444444,
                            "#bd3786"
                          ],
                          [
                            0.5555555555555556,
                            "#d8576b"
                          ],
                          [
                            0.6666666666666666,
                            "#ed7953"
                          ],
                          [
                            0.7777777777777778,
                            "#fb9f3a"
                          ],
                          [
                            0.8888888888888888,
                            "#fdca26"
                          ],
                          [
                            1,
                            "#f0f921"
                          ]
                        ],
                        "type": "histogram2d"
                      }
                    ],
                    "histogram2dcontour": [
                      {
                        "colorbar": {
                          "outlinewidth": 0,
                          "ticks": ""
                        },
                        "colorscale": [
                          [
                            0,
                            "#0d0887"
                          ],
                          [
                            0.1111111111111111,
                            "#46039f"
                          ],
                          [
                            0.2222222222222222,
                            "#7201a8"
                          ],
                          [
                            0.3333333333333333,
                            "#9c179e"
                          ],
                          [
                            0.4444444444444444,
                            "#bd3786"
                          ],
                          [
                            0.5555555555555556,
                            "#d8576b"
                          ],
                          [
                            0.6666666666666666,
                            "#ed7953"
                          ],
                          [
                            0.7777777777777778,
                            "#fb9f3a"
                          ],
                          [
                            0.8888888888888888,
                            "#fdca26"
                          ],
                          [
                            1,
                            "#f0f921"
                          ]
                        ],
                        "type": "histogram2dcontour"
                      }
                    ],
                    "mesh3d": [
                      {
                        "colorbar": {
                          "outlinewidth": 0,
                          "ticks": ""
                        },
                        "type": "mesh3d"
                      }
                    ],
                    "parcoords": [
                      {
                        "line": {
                          "colorbar": {
                            "outlinewidth": 0,
                            "ticks": ""
                          }
                        },
                        "type": "parcoords"
                      }
                    ],
                    "pie": [
                      {
                        "automargin": true,
                        "type": "pie"
                      }
                    ],
                    "scatter": [
                      {
                        "marker": {
                          "colorbar": {
                            "outlinewidth": 0,
                            "ticks": ""
                          }
                        },
                        "type": "scatter"
                      }
                    ],
                    "scatter3d": [
                      {
                        "line": {
                          "colorbar": {
                            "outlinewidth": 0,
                            "ticks": ""
                          }
                        },
                        "marker": {
                          "colorbar": {
                            "outlinewidth": 0,
                            "ticks": ""
                          }
                        },
                        "type": "scatter3d"
                      }
                    ],
                    "scattercarpet": [
                      {
                        "marker": {
                          "colorbar": {
                            "outlinewidth": 0,
                            "ticks": ""
                          }
                        },
                        "type": "scattercarpet"
                      }
                    ],
                    "scattergeo": [
                      {
                        "marker": {
                          "colorbar": {
                            "outlinewidth": 0,
                            "ticks": ""
                          }
                        },
                        "type": "scattergeo"
                      }
                    ],
                    "scattergl": [
                      {
                        "marker": {
                          "colorbar": {
                            "outlinewidth": 0,
                            "ticks": ""
                          }
                        },
                        "type": "scattergl"
                      }
                    ],
                    "scattermapbox": [
                      {
                        "marker": {
                          "colorbar": {
                            "outlinewidth": 0,
                            "ticks": ""
                          }
                        },
                        "type": "scattermapbox"
                      }
                    ],
                    "scatterpolar": [
                      {
                        "marker": {
                          "colorbar": {
                            "outlinewidth": 0,
                            "ticks": ""
                          }
                        },
                        "type": "scatterpolar"
                      }
                    ],
                    "scatterpolargl": [
                      {
                        "marker": {
                          "colorbar": {
                            "outlinewidth": 0,
                            "ticks": ""
                          }
                        },
                        "type": "scatterpolargl"
                      }
                    ],
                    "scatterternary": [
                      {
                        "marker": {
                          "colorbar": {
                            "outlinewidth": 0,
                            "ticks": ""
                          }
                        },
                        "type": "scatterternary"
                      }
                    ],
                    "surface": [
                      {
                        "colorbar": {
                          "outlinewidth": 0,
                          "ticks": ""
                        },
                        "colorscale": [
                          [
                            0,
                            "#0d0887"
                          ],
                          [
                            0.1111111111111111,
                            "#46039f"
                          ],
                          [
                            0.2222222222222222,
                            "#7201a8"
                          ],
                          [
                            0.3333333333333333,
                            "#9c179e"
                          ],
                          [
                            0.4444444444444444,
                            "#bd3786"
                          ],
                          [
                            0.5555555555555556,
                            "#d8576b"
                          ],
                          [
                            0.6666666666666666,
                            "#ed7953"
                          ],
                          [
                            0.7777777777777778,
                            "#fb9f3a"
                          ],
                          [
                            0.8888888888888888,
                            "#fdca26"
                          ],
                          [
                            1,
                            "#f0f921"
                          ]
                        ],
                        "type": "surface"
                      }
                    ],
                    "table": [
                      {
                        "cells": {
                          "fill": {
                            "color": "#EBF0F8"
                          },
                          "line": {
                            "color": "white"
                          }
                        },
                        "header": {
                          "fill": {
                            "color": "#C8D4E3"
                          },
                          "line": {
                            "color": "white"
                          }
                        },
                        "type": "table"
                      }
                    ]
                  },
                  "layout": {
                    "annotationdefaults": {
                      "arrowcolor": "#2a3f5f",
                      "arrowhead": 0,
                      "arrowwidth": 1
                    },
                    "autotypenumbers": "strict",
                    "coloraxis": {
                      "colorbar": {
                        "outlinewidth": 0,
                        "ticks": ""
                      }
                    },
                    "colorscale": {
                      "diverging": [
                        [
                          0,
                          "#8e0152"
                        ],
                        [
                          0.1,
                          "#c51b7d"
                        ],
                        [
                          0.2,
                          "#de77ae"
                        ],
                        [
                          0.3,
                          "#f1b6da"
                        ],
                        [
                          0.4,
                          "#fde0ef"
                        ],
                        [
                          0.5,
                          "#f7f7f7"
                        ],
                        [
                          0.6,
                          "#e6f5d0"
                        ],
                        [
                          0.7,
                          "#b8e186"
                        ],
                        [
                          0.8,
                          "#7fbc41"
                        ],
                        [
                          0.9,
                          "#4d9221"
                        ],
                        [
                          1,
                          "#276419"
                        ]
                      ],
                      "sequential": [
                        [
                          0,
                          "#0d0887"
                        ],
                        [
                          0.1111111111111111,
                          "#46039f"
                        ],
                        [
                          0.2222222222222222,
                          "#7201a8"
                        ],
                        [
                          0.3333333333333333,
                          "#9c179e"
                        ],
                        [
                          0.4444444444444444,
                          "#bd3786"
                        ],
                        [
                          0.5555555555555556,
                          "#d8576b"
                        ],
                        [
                          0.6666666666666666,
                          "#ed7953"
                        ],
                        [
                          0.7777777777777778,
                          "#fb9f3a"
                        ],
                        [
                          0.8888888888888888,
                          "#fdca26"
                        ],
                        [
                          1,
                          "#f0f921"
                        ]
                      ],
                      "sequentialminus": [
                        [
                          0,
                          "#0d0887"
                        ],
                        [
                          0.1111111111111111,
                          "#46039f"
                        ],
                        [
                          0.2222222222222222,
                          "#7201a8"
                        ],
                        [
                          0.3333333333333333,
                          "#9c179e"
                        ],
                        [
                          0.4444444444444444,
                          "#bd3786"
                        ],
                        [
                          0.5555555555555556,
                          "#d8576b"
                        ],
                        [
                          0.6666666666666666,
                          "#ed7953"
                        ],
                        [
                          0.7777777777777778,
                          "#fb9f3a"
                        ],
                        [
                          0.8888888888888888,
                          "#fdca26"
                        ],
                        [
                          1,
                          "#f0f921"
                        ]
                      ]
                    },
                    "colorway": [
                      "#636efa",
                      "#EF553B",
                      "#00cc96",
                      "#ab63fa",
                      "#FFA15A",
                      "#19d3f3",
                      "#FF6692",
                      "#B6E880",
                      "#FF97FF",
                      "#FECB52"
                    ],
                    "font": {
                      "color": "#2a3f5f"
                    },
                    "geo": {
                      "bgcolor": "white",
                      "lakecolor": "white",
                      "landcolor": "#E5ECF6",
                      "showlakes": true,
                      "showland": true,
                      "subunitcolor": "white"
                    },
                    "hoverlabel": {
                      "align": "left"
                    },
                    "hovermode": "closest",
                    "mapbox": {
                      "style": "light"
                    },
                    "paper_bgcolor": "white",
                    "plot_bgcolor": "#E5ECF6",
                    "polar": {
                      "angularaxis": {
                        "gridcolor": "white",
                        "linecolor": "white",
                        "ticks": ""
                      },
                      "bgcolor": "#E5ECF6",
                      "radialaxis": {
                        "gridcolor": "white",
                        "linecolor": "white",
                        "ticks": ""
                      }
                    },
                    "scene": {
                      "xaxis": {
                        "backgroundcolor": "#E5ECF6",
                        "gridcolor": "white",
                        "gridwidth": 2,
                        "linecolor": "white",
                        "showbackground": true,
                        "ticks": "",
                        "zerolinecolor": "white"
                      },
                      "yaxis": {
                        "backgroundcolor": "#E5ECF6",
                        "gridcolor": "white",
                        "gridwidth": 2,
                        "linecolor": "white",
                        "showbackground": true,
                        "ticks": "",
                        "zerolinecolor": "white"
                      },
                      "zaxis": {
                        "backgroundcolor": "#E5ECF6",
                        "gridcolor": "white",
                        "gridwidth": 2,
                        "linecolor": "white",
                        "showbackground": true,
                        "ticks": "",
                        "zerolinecolor": "white"
                      }
                    },
                    "shapedefaults": {
                      "line": {
                        "color": "#2a3f5f"
                      }
                    },
                    "ternary": {
                      "aaxis": {
                        "gridcolor": "white",
                        "linecolor": "white",
                        "ticks": ""
                      },
                      "baxis": {
                        "gridcolor": "white",
                        "linecolor": "white",
                        "ticks": ""
                      },
                      "bgcolor": "#E5ECF6",
                      "caxis": {
                        "gridcolor": "white",
                        "linecolor": "white",
                        "ticks": ""
                      }
                    },
                    "title": {
                      "x": 0.05
                    },
                    "xaxis": {
                      "automargin": true,
                      "gridcolor": "white",
                      "linecolor": "white",
                      "ticks": "",
                      "title": {
                        "standoff": 15
                      },
                      "zerolinecolor": "white",
                      "zerolinewidth": 2
                    },
                    "yaxis": {
                      "automargin": true,
                      "gridcolor": "white",
                      "linecolor": "white",
                      "ticks": "",
                      "title": {
                        "standoff": 15
                      },
                      "zerolinecolor": "white",
                      "zerolinewidth": 2
                    }
                  }
                },
                "xaxis": {
                  "anchor": "y",
                  "domain": [
                    0,
                    1
                  ],
                  "title": {
                    "text": "price"
                  }
                },
                "yaxis": {
                  "anchor": "x",
                  "domain": [
                    0,
                    1
                  ],
                  "title": {
                    "text": "engagement"
                  }
                }
              }
            }
          },
          "metadata": {},
          "output_type": "display_data"
        }
      ],
      "source": [
        "import plotly.express as px\n",
        "# categories: model, store,condition\n",
        "px.scatter(df, x=\"price\", y=\"engagement\", color=\"store\")  "
      ]
    },
    {
      "cell_type": "markdown",
      "metadata": {
        "id": "8iWlOttYvE0Z"
      },
      "source": [
        "Dataframes can be logically filtered for certain features using the function iloc\n",
        "---\n",
        "The iloc property returns purely integer-location based indexing for selection by position.\n",
        "\n",
        "**.iloc[]** is primarily integer position based (from 0 to length-1 of the axis), but may also be used with a boolean array."
      ]
    },
    {
      "cell_type": "code",
      "execution_count": 35,
      "metadata": {
        "colab": {
          "base_uri": "https://localhost:8080/",
          "height": 418
        },
        "id": "W1AONsvyfAQH",
        "outputId": "029c085a-8067-4d81-cfc7-7636b036fc27"
      },
      "outputs": [
        {
          "data": {
            "text/html": [
              "<div>\n",
              "<style scoped>\n",
              "    .dataframe tbody tr th:only-of-type {\n",
              "        vertical-align: middle;\n",
              "    }\n",
              "\n",
              "    .dataframe tbody tr th {\n",
              "        vertical-align: top;\n",
              "    }\n",
              "\n",
              "    .dataframe thead th {\n",
              "        text-align: right;\n",
              "    }\n",
              "</style>\n",
              "<table border=\"1\" class=\"dataframe\">\n",
              "  <thead>\n",
              "    <tr style=\"text-align: right;\">\n",
              "      <th></th>\n",
              "      <th>model</th>\n",
              "      <th>store</th>\n",
              "      <th>condition</th>\n",
              "      <th>engagement</th>\n",
              "      <th>price</th>\n",
              "    </tr>\n",
              "  </thead>\n",
              "  <tbody>\n",
              "    <tr>\n",
              "      <th>16</th>\n",
              "      <td>Caracal</td>\n",
              "      <td>Super deals</td>\n",
              "      <td>Very Good</td>\n",
              "      <td>80.759494</td>\n",
              "      <td>528.0</td>\n",
              "    </tr>\n",
              "    <tr>\n",
              "      <th>17</th>\n",
              "      <td>Clepsydra</td>\n",
              "      <td>Super deals</td>\n",
              "      <td>Very Good</td>\n",
              "      <td>77.215190</td>\n",
              "      <td>529.5</td>\n",
              "    </tr>\n",
              "    <tr>\n",
              "      <th>18</th>\n",
              "      <td>Sand</td>\n",
              "      <td>Watches unlimited</td>\n",
              "      <td>Very Good</td>\n",
              "      <td>75.189873</td>\n",
              "      <td>529.5</td>\n",
              "    </tr>\n",
              "    <tr>\n",
              "      <th>19</th>\n",
              "      <td>Tempo</td>\n",
              "      <td>National traders</td>\n",
              "      <td>Very Good</td>\n",
              "      <td>76.455696</td>\n",
              "      <td>531.0</td>\n",
              "    </tr>\n",
              "    <tr>\n",
              "      <th>20</th>\n",
              "      <td>Lightning bolt</td>\n",
              "      <td>National traders</td>\n",
              "      <td>Like new</td>\n",
              "      <td>79.113924</td>\n",
              "      <td>532.5</td>\n",
              "    </tr>\n",
              "    <tr>\n",
              "      <th>21</th>\n",
              "      <td>Caracal</td>\n",
              "      <td>Super deals</td>\n",
              "      <td>Good</td>\n",
              "      <td>81.139241</td>\n",
              "      <td>603.0</td>\n",
              "    </tr>\n",
              "    <tr>\n",
              "      <th>22</th>\n",
              "      <td>Clepsydra</td>\n",
              "      <td>Super deals</td>\n",
              "      <td>Good</td>\n",
              "      <td>81.012658</td>\n",
              "      <td>603.0</td>\n",
              "    </tr>\n",
              "    <tr>\n",
              "      <th>23</th>\n",
              "      <td>Lightning bolt</td>\n",
              "      <td>Watches unlimited</td>\n",
              "      <td>New</td>\n",
              "      <td>77.468354</td>\n",
              "      <td>604.5</td>\n",
              "    </tr>\n",
              "    <tr>\n",
              "      <th>24</th>\n",
              "      <td>Sand</td>\n",
              "      <td>Super deals</td>\n",
              "      <td>New</td>\n",
              "      <td>77.341772</td>\n",
              "      <td>604.5</td>\n",
              "    </tr>\n",
              "    <tr>\n",
              "      <th>25</th>\n",
              "      <td>Clepsydra</td>\n",
              "      <td>Watches unlimited</td>\n",
              "      <td>Good</td>\n",
              "      <td>79.873418</td>\n",
              "      <td>604.5</td>\n",
              "    </tr>\n",
              "    <tr>\n",
              "      <th>26</th>\n",
              "      <td>Clepsydra</td>\n",
              "      <td>National traders</td>\n",
              "      <td>Good</td>\n",
              "      <td>80.759494</td>\n",
              "      <td>604.5</td>\n",
              "    </tr>\n",
              "    <tr>\n",
              "      <th>27</th>\n",
              "      <td>Tempo</td>\n",
              "      <td>Super deals</td>\n",
              "      <td>New</td>\n",
              "      <td>78.354430</td>\n",
              "      <td>606.0</td>\n",
              "    </tr>\n",
              "    <tr>\n",
              "      <th>28</th>\n",
              "      <td>Sand</td>\n",
              "      <td>National traders</td>\n",
              "      <td>Like new</td>\n",
              "      <td>75.063291</td>\n",
              "      <td>607.5</td>\n",
              "    </tr>\n",
              "    <tr>\n",
              "      <th>29</th>\n",
              "      <td>Lightning bolt</td>\n",
              "      <td>Super deals</td>\n",
              "      <td>Very Good</td>\n",
              "      <td>79.240506</td>\n",
              "      <td>607.5</td>\n",
              "    </tr>\n",
              "    <tr>\n",
              "      <th>30</th>\n",
              "      <td>Lightning bolt</td>\n",
              "      <td>National traders</td>\n",
              "      <td>Good</td>\n",
              "      <td>80.000000</td>\n",
              "      <td>607.5</td>\n",
              "    </tr>\n",
              "  </tbody>\n",
              "</table>\n",
              "</div>"
            ],
            "text/plain": [
              "             model              store  condition  engagement  price\n",
              "16         Caracal        Super deals  Very Good   80.759494  528.0\n",
              "17       Clepsydra        Super deals  Very Good   77.215190  529.5\n",
              "18            Sand  Watches unlimited  Very Good   75.189873  529.5\n",
              "19           Tempo   National traders  Very Good   76.455696  531.0\n",
              "20  Lightning bolt   National traders   Like new   79.113924  532.5\n",
              "21         Caracal        Super deals       Good   81.139241  603.0\n",
              "22       Clepsydra        Super deals       Good   81.012658  603.0\n",
              "23  Lightning bolt  Watches unlimited        New   77.468354  604.5\n",
              "24            Sand        Super deals        New   77.341772  604.5\n",
              "25       Clepsydra  Watches unlimited       Good   79.873418  604.5\n",
              "26       Clepsydra   National traders       Good   80.759494  604.5\n",
              "27           Tempo        Super deals        New   78.354430  606.0\n",
              "28            Sand   National traders   Like new   75.063291  607.5\n",
              "29  Lightning bolt        Super deals  Very Good   79.240506  607.5\n",
              "30  Lightning bolt   National traders       Good   80.000000  607.5"
            ]
          },
          "execution_count": 35,
          "metadata": {},
          "output_type": "execute_result"
        }
      ],
      "source": [
        "df.iloc[16:31]\n"
      ]
    },
    {
      "cell_type": "markdown",
      "metadata": {
        "id": "F5PbGG1hwFdq"
      },
      "source": [
        "Similarly Dataframes can also be filtered by numerical indicies\n",
        "---\n",
        "The loc property is used to access a group of rows and columns by label(s) or a boolean array.\n",
        "\n",
        "**.loc[]** is primarily label based (i.e df.column_name), but may also be used with a boolean array."
      ]
    },
    {
      "cell_type": "code",
      "execution_count": 36,
      "metadata": {
        "colab": {
          "base_uri": "https://localhost:8080/",
          "height": 542
        },
        "id": "cUE59bVzfC8X",
        "outputId": "57de1530-ad85-4c3b-a705-0c6cc53666ff"
      },
      "outputs": [
        {
          "data": {
            "text/html": [
              "<div>\n",
              "<style scoped>\n",
              "    .dataframe tbody tr th:only-of-type {\n",
              "        vertical-align: middle;\n",
              "    }\n",
              "\n",
              "    .dataframe tbody tr th {\n",
              "        vertical-align: top;\n",
              "    }\n",
              "\n",
              "    .dataframe thead th {\n",
              "        text-align: right;\n",
              "    }\n",
              "</style>\n",
              "<table border=\"1\" class=\"dataframe\">\n",
              "  <thead>\n",
              "    <tr style=\"text-align: right;\">\n",
              "      <th></th>\n",
              "      <th>model</th>\n",
              "      <th>store</th>\n",
              "      <th>condition</th>\n",
              "      <th>engagement</th>\n",
              "      <th>price</th>\n",
              "    </tr>\n",
              "  </thead>\n",
              "  <tbody>\n",
              "    <tr>\n",
              "      <th>4</th>\n",
              "      <td>Sand</td>\n",
              "      <td>Super deals</td>\n",
              "      <td>Good</td>\n",
              "      <td>80.126582</td>\n",
              "      <td>502.5</td>\n",
              "    </tr>\n",
              "    <tr>\n",
              "      <th>15</th>\n",
              "      <td>Lightning bolt</td>\n",
              "      <td>Super deals</td>\n",
              "      <td>Good</td>\n",
              "      <td>80.126582</td>\n",
              "      <td>526.5</td>\n",
              "    </tr>\n",
              "    <tr>\n",
              "      <th>21</th>\n",
              "      <td>Caracal</td>\n",
              "      <td>Super deals</td>\n",
              "      <td>Good</td>\n",
              "      <td>81.139241</td>\n",
              "      <td>603.0</td>\n",
              "    </tr>\n",
              "    <tr>\n",
              "      <th>22</th>\n",
              "      <td>Clepsydra</td>\n",
              "      <td>Super deals</td>\n",
              "      <td>Good</td>\n",
              "      <td>81.012658</td>\n",
              "      <td>603.0</td>\n",
              "    </tr>\n",
              "    <tr>\n",
              "      <th>25</th>\n",
              "      <td>Clepsydra</td>\n",
              "      <td>Watches unlimited</td>\n",
              "      <td>Good</td>\n",
              "      <td>79.873418</td>\n",
              "      <td>604.5</td>\n",
              "    </tr>\n",
              "    <tr>\n",
              "      <th>26</th>\n",
              "      <td>Clepsydra</td>\n",
              "      <td>National traders</td>\n",
              "      <td>Good</td>\n",
              "      <td>80.759494</td>\n",
              "      <td>604.5</td>\n",
              "    </tr>\n",
              "    <tr>\n",
              "      <th>30</th>\n",
              "      <td>Lightning bolt</td>\n",
              "      <td>National traders</td>\n",
              "      <td>Good</td>\n",
              "      <td>80.000000</td>\n",
              "      <td>607.5</td>\n",
              "    </tr>\n",
              "    <tr>\n",
              "      <th>61</th>\n",
              "      <td>Tempo</td>\n",
              "      <td>National traders</td>\n",
              "      <td>Good</td>\n",
              "      <td>82.405063</td>\n",
              "      <td>4204.5</td>\n",
              "    </tr>\n",
              "    <tr>\n",
              "      <th>67</th>\n",
              "      <td>Lightning bolt</td>\n",
              "      <td>Watches unlimited</td>\n",
              "      <td>Good</td>\n",
              "      <td>80.886076</td>\n",
              "      <td>831.0</td>\n",
              "    </tr>\n",
              "    <tr>\n",
              "      <th>69</th>\n",
              "      <td>Sand</td>\n",
              "      <td>Watches unlimited</td>\n",
              "      <td>Good</td>\n",
              "      <td>81.012658</td>\n",
              "      <td>4233.0</td>\n",
              "    </tr>\n",
              "    <tr>\n",
              "      <th>71</th>\n",
              "      <td>Sand</td>\n",
              "      <td>National traders</td>\n",
              "      <td>Good</td>\n",
              "      <td>80.506329</td>\n",
              "      <td>4282.5</td>\n",
              "    </tr>\n",
              "    <tr>\n",
              "      <th>74</th>\n",
              "      <td>Tempo</td>\n",
              "      <td>Watches unlimited</td>\n",
              "      <td>Good</td>\n",
              "      <td>82.405063</td>\n",
              "      <td>4308.0</td>\n",
              "    </tr>\n",
              "  </tbody>\n",
              "</table>\n",
              "</div>"
            ],
            "text/plain": [
              "             model              store condition  engagement   price\n",
              "4             Sand        Super deals      Good   80.126582   502.5\n",
              "15  Lightning bolt        Super deals      Good   80.126582   526.5\n",
              "21         Caracal        Super deals      Good   81.139241   603.0\n",
              "22       Clepsydra        Super deals      Good   81.012658   603.0\n",
              "25       Clepsydra  Watches unlimited      Good   79.873418   604.5\n",
              "26       Clepsydra   National traders      Good   80.759494   604.5\n",
              "30  Lightning bolt   National traders      Good   80.000000   607.5\n",
              "61           Tempo   National traders      Good   82.405063  4204.5\n",
              "67  Lightning bolt  Watches unlimited      Good   80.886076   831.0\n",
              "69            Sand  Watches unlimited      Good   81.012658  4233.0\n",
              "71            Sand   National traders      Good   80.506329  4282.5\n",
              "74           Tempo  Watches unlimited      Good   82.405063  4308.0"
            ]
          },
          "execution_count": 36,
          "metadata": {},
          "output_type": "execute_result"
        }
      ],
      "source": [
        "df.loc[(df.engagement > 77.00) & (df.condition =='Good')]"
      ]
    },
    {
      "cell_type": "markdown",
      "metadata": {
        "id": "W2OqoDW-rHM7"
      },
      "source": [
        "Setting Indicies\n",
        "---\n",
        "Pandas assigns a serial number as the index (that's the unnamed column of integers in bold face in the df.head() output above)\n",
        " Setting a custom row index for your DataFrame can be more useful in some instances. You can set the index of a DataFrame with the **.set_index()** method:\n"
      ]
    },
    {
      "cell_type": "code",
      "execution_count": 37,
      "metadata": {
        "colab": {
          "base_uri": "https://localhost:8080/",
          "height": 234
        },
        "id": "mybJyzTnfF6P",
        "outputId": "258fef01-414b-45c3-b1bd-9e39272eab45"
      },
      "outputs": [
        {
          "data": {
            "text/html": [
              "<div>\n",
              "<style scoped>\n",
              "    .dataframe tbody tr th:only-of-type {\n",
              "        vertical-align: middle;\n",
              "    }\n",
              "\n",
              "    .dataframe tbody tr th {\n",
              "        vertical-align: top;\n",
              "    }\n",
              "\n",
              "    .dataframe thead th {\n",
              "        text-align: right;\n",
              "    }\n",
              "</style>\n",
              "<table border=\"1\" class=\"dataframe\">\n",
              "  <thead>\n",
              "    <tr style=\"text-align: right;\">\n",
              "      <th></th>\n",
              "      <th></th>\n",
              "      <th></th>\n",
              "      <th>engagement</th>\n",
              "      <th>price</th>\n",
              "    </tr>\n",
              "    <tr>\n",
              "      <th>model</th>\n",
              "      <th>store</th>\n",
              "      <th>condition</th>\n",
              "      <th></th>\n",
              "      <th></th>\n",
              "    </tr>\n",
              "  </thead>\n",
              "  <tbody>\n",
              "    <tr>\n",
              "      <th rowspan=\"3\" valign=\"top\">Caracal</th>\n",
              "      <th>Watches unlimited</th>\n",
              "      <th>New</th>\n",
              "      <td>77.848101</td>\n",
              "      <td>489.0</td>\n",
              "    </tr>\n",
              "    <tr>\n",
              "      <th rowspan=\"2\" valign=\"top\">National traders</th>\n",
              "      <th>Like new</th>\n",
              "      <td>75.696203</td>\n",
              "      <td>489.0</td>\n",
              "    </tr>\n",
              "    <tr>\n",
              "      <th>Good</th>\n",
              "      <td>72.025316</td>\n",
              "      <td>490.5</td>\n",
              "    </tr>\n",
              "    <tr>\n",
              "      <th>Lightning bolt</th>\n",
              "      <th>Super deals</th>\n",
              "      <th>Like new</th>\n",
              "      <td>78.987342</td>\n",
              "      <td>501.0</td>\n",
              "    </tr>\n",
              "    <tr>\n",
              "      <th>Sand</th>\n",
              "      <th>Super deals</th>\n",
              "      <th>Good</th>\n",
              "      <td>80.126582</td>\n",
              "      <td>502.5</td>\n",
              "    </tr>\n",
              "  </tbody>\n",
              "</table>\n",
              "</div>"
            ],
            "text/plain": [
              "                                            engagement  price\n",
              "model          store             condition                   \n",
              "Caracal        Watches unlimited New         77.848101  489.0\n",
              "               National traders  Like new    75.696203  489.0\n",
              "                                 Good        72.025316  490.5\n",
              "Lightning bolt Super deals       Like new    78.987342  501.0\n",
              "Sand           Super deals       Good        80.126582  502.5"
            ]
          },
          "execution_count": 37,
          "metadata": {},
          "output_type": "execute_result"
        }
      ],
      "source": [
        "df = df.set_index([\"model\", \"store\", \"condition\"])\n",
        "df.head()"
      ]
    },
    {
      "cell_type": "markdown",
      "metadata": {
        "id": "uh2IVdUkWnOE"
      },
      "source": [
        "Grouping Your Data\n",
        "---\n",
        "Grouping your data by a subset of the variables in the DataFrame is a common task in which pandas excels. We use the .groupby() method to do this. You can think of groupby() as a for loop that goes through the values of some user-specified column(s) and, in each iteration, extracts only those DataFrame rows that match that value in the specified column. \n",
        "\n",
        "\n",
        "**.groupby()** is most useful when we use it together with aggregation functions (functions that summarize our data), like sum(), mean(), and others. Here we group our dataframe df by the model and condition variables. Inside, the resulting object has all the data from df, partitioned into pieces depending on the values of the two variables we grouped by. We then ask pandas to compute the mean price for each category:"
      ]
    },
    {
      "cell_type": "code",
      "execution_count": 38,
      "metadata": {
        "colab": {
          "base_uri": "https://localhost:8080/",
          "height": 0
        },
        "id": "6nbMesqkfbPj",
        "outputId": "94c92b6b-70c3-451f-c728-4ed43db362d2"
      },
      "outputs": [
        {
          "data": {
            "text/plain": [
              "model           condition\n",
              "Caracal         Fair         2949.5\n",
              "                Good         1744.0\n",
              "                Like new      508.0\n",
              "                New          1818.5\n",
              "                Very Good    1832.5\n",
              "Clepsydra       Fair         4151.5\n",
              "                Good          604.0\n",
              "                Like new     1934.0\n",
              "                New          4162.5\n",
              "                Very Good    1737.0\n",
              "Lightning bolt  Fair         4235.5\n",
              "                Good          655.0\n",
              "                Like new     1739.5\n",
              "                New           652.5\n",
              "                Very Good    1783.5\n",
              "Sand            Fair         4207.5\n",
              "                Good         3006.0\n",
              "                Like new     1884.5\n",
              "                New           543.5\n",
              "                Very Good     520.0\n",
              "Tempo           Fair         4189.5\n",
              "                Good         4225.5\n",
              "                Like new     3039.5\n",
              "                New          2965.0\n",
              "                Very Good    1854.5\n",
              "Name: price, dtype: float64"
            ]
          },
          "execution_count": 38,
          "metadata": {},
          "output_type": "execute_result"
        }
      ],
      "source": [
        "groups = df.groupby([\"model\", \"condition\"]) # Grouping by\n",
        "groups[\"price\"].mean()"
      ]
    },
    {
      "cell_type": "code",
      "execution_count": 39,
      "metadata": {
        "colab": {
          "base_uri": "https://localhost:8080/",
          "height": 0
        },
        "id": "6zq8WaoTfwgA",
        "outputId": "775bf172-8352-4fd9-b7c3-75027ef310b4"
      },
      "outputs": [
        {
          "data": {
            "text/plain": [
              "model\n",
              "Caracal           1770.5\n",
              "Clepsydra         2517.8\n",
              "Lightning bolt    1813.2\n",
              "Sand              2032.3\n",
              "Tempo             3254.8\n",
              "Name: price, dtype: float64"
            ]
          },
          "execution_count": 39,
          "metadata": {},
          "output_type": "execute_result"
        }
      ],
      "source": [
        "groups = df.groupby([\"model\"]) # Grouping by\n",
        "groups[\"price\"].mean()"
      ]
    },
    {
      "cell_type": "code",
      "execution_count": 40,
      "metadata": {
        "colab": {
          "base_uri": "https://localhost:8080/"
        },
        "id": "YD_fWmEDzQjx",
        "outputId": "2c2bb7f7-ee2d-4a6f-c4ce-891493848860"
      },
      "outputs": [
        {
          "data": {
            "text/plain": [
              "pandas.core.groupby.generic.DataFrameGroupBy"
            ]
          },
          "execution_count": 40,
          "metadata": {},
          "output_type": "execute_result"
        }
      ],
      "source": [
        "type(groups)"
      ]
    },
    {
      "cell_type": "code",
      "execution_count": 41,
      "metadata": {},
      "outputs": [
        {
          "name": "stdout",
          "output_type": "stream",
          "text": [
            "                                     engagement   price\n",
            "model   store             condition                    \n",
            "Caracal Watches unlimited New         77.848101   489.0\n",
            "        National traders  Like new    75.696203   489.0\n",
            "                          Good        72.025316   490.5\n",
            "        Super deals       Fair        82.405063   505.5\n",
            "                          Like new    76.202532   517.5\n",
            "        Watches unlimited Like new    77.088608   517.5\n",
            "        Super deals       Very Good   80.759494   528.0\n",
            "                          Good        81.139241   603.0\n",
            "        National traders  Very Good   79.240506   831.0\n",
            "        Super deals       New         79.620253   831.0\n",
            "        National traders  New         79.113924  4135.5\n",
            "                          Fair        69.746835  4135.5\n",
            "        Watches unlimited Very Good   78.987342  4138.5\n",
            "                          Good        72.784810  4138.5\n",
            "                          Fair        74.303797  4207.5\n",
            "                                       engagement   price\n",
            "model     store             condition                    \n",
            "Clepsydra National traders  Very Good   78.354430   505.5\n",
            "          Super deals       Very Good   77.215190   529.5\n",
            "                            Good        81.012658   603.0\n",
            "          Watches unlimited Good        79.873418   604.5\n",
            "          National traders  Good        80.759494   604.5\n",
            "          Watches unlimited Like new    79.620253   831.0\n",
            "          Super deals       Like new    77.468354   831.0\n",
            "          National traders  Like new    77.848101  4140.0\n",
            "          Super deals       Fair        81.518987  4144.5\n",
            "          National traders  Fair        83.164557  4144.5\n",
            "          Super deals       New         78.481013  4144.5\n",
            "          National traders  New         77.468354  4147.5\n",
            "          Watches unlimited Fair        85.949367  4165.5\n",
            "                            Very Good   80.632911  4176.0\n",
            "                            New         77.974684  4195.5\n",
            "                                            engagement   price\n",
            "model          store             condition                    \n",
            "Lightning bolt Super deals       Like new    78.987342   501.0\n",
            "               Watches unlimited Very Good   78.860759   504.0\n",
            "               Super deals       New         78.481013   522.0\n",
            "                                 Good        80.126582   526.5\n",
            "               National traders  Like new    79.113924   532.5\n",
            "               Watches unlimited New         77.468354   604.5\n",
            "               Super deals       Very Good   79.240506   607.5\n",
            "               National traders  Good        80.000000   607.5\n",
            "                                 New         77.974684   831.0\n",
            "               Watches unlimited Like new    74.430380  4185.0\n",
            "               Super deals       Fair        85.189873  4206.0\n",
            "               National traders  Fair        86.202532  4216.5\n",
            "               Watches unlimited Good        80.886076   831.0\n",
            "               National traders  Very Good   80.379747  4239.0\n",
            "               Watches unlimited Fair        67.088608  4284.0\n",
            "                                   engagement   price\n",
            "model store             condition                    \n",
            "Sand  Super deals       Good        80.126582   502.5\n",
            "      National traders  Very Good   79.493671   504.0\n",
            "      Watches unlimited New         79.493671   510.0\n",
            "      National traders  New         78.734177   516.0\n",
            "      Super deals       Very Good   79.367089   526.5\n",
            "      Watches unlimited Very Good   75.189873   529.5\n",
            "      Super deals       New         77.341772   604.5\n",
            "      National traders  Like new    75.063291   607.5\n",
            "                        Fair        83.291139  4183.5\n",
            "      Watches unlimited Like new    78.354430  4210.5\n",
            "                        Fair        83.164557  4216.5\n",
            "      Super deals       Fair        82.278481  4222.5\n",
            "      Watches unlimited Good        81.012658  4233.0\n",
            "      National traders  Good        80.506329  4282.5\n",
            "      Super deals       Like new    79.493671   835.5\n",
            "                                   engagement   price\n",
            "model store             condition                    \n",
            "Tempo National traders  Very Good   76.455696   531.0\n",
            "      Super deals       New         78.354430   606.0\n",
            "      Watches unlimited Very Good   80.126582   829.5\n",
            "      National traders  Like new    78.227848   829.5\n",
            "                        New         77.974684  4140.0\n",
            "      Super deals       Like new    78.101266  4140.0\n",
            "      Watches unlimited New         78.354430  4149.0\n",
            "                        Like new    77.088608  4149.0\n",
            "      Super deals       Good        75.569620  4164.0\n",
            "      Watches unlimited Fair        69.746835  4173.0\n",
            "      National traders  Fair        74.430380  4195.5\n",
            "      Super deals       Fair        74.683544  4200.0\n",
            "                        Very Good   75.822785  4203.0\n",
            "      National traders  Good        82.405063  4204.5\n",
            "      Watches unlimited Good        82.405063  4308.0\n"
          ]
        }
      ],
      "source": [
        "# Printing GroupBy objects\n",
        "for key, item in groups:\n",
        "    print(groups.get_group(key))"
      ]
    },
    {
      "cell_type": "markdown",
      "metadata": {
        "id": "AYbjaysIziYe"
      },
      "source": [
        "Pivoting\n",
        "---\n",
        "Pivoting is basically the same as grouping by + aggregating, with the difference that you can have some of the grouping variables as columns instead of as rows. This is sometimes nicer to look at.\n"
      ]
    },
    {
      "cell_type": "markdown",
      "metadata": {
        "id": "My63oegNz1e9"
      },
      "source": [
        "When you pivot, you summarize one of your numeric columns by group, where the groups are determined by some of the other columns. Some of those variables can be shown as rows, and some can be shown as columns. We create pivot tables in pandas using the **.pivot_table()** method, with the following syntax:\n",
        "\n",
        "pd.pivot_table(my_df, values=[\"numeric_column\"], index=[\"row_variable\"], columns=[\"column_variable\"])"
      ]
    },
    {
      "cell_type": "code",
      "execution_count": 42,
      "metadata": {
        "colab": {
          "base_uri": "https://localhost:8080/",
          "height": 265
        },
        "id": "4DJWYqiOfzib",
        "outputId": "24ba39bb-7855-4492-e6a6-799059853703"
      },
      "outputs": [
        {
          "data": {
            "text/html": [
              "<div>\n",
              "<style scoped>\n",
              "    .dataframe tbody tr th:only-of-type {\n",
              "        vertical-align: middle;\n",
              "    }\n",
              "\n",
              "    .dataframe tbody tr th {\n",
              "        vertical-align: top;\n",
              "    }\n",
              "\n",
              "    .dataframe thead tr th {\n",
              "        text-align: left;\n",
              "    }\n",
              "\n",
              "    .dataframe thead tr:last-of-type th {\n",
              "        text-align: right;\n",
              "    }\n",
              "</style>\n",
              "<table border=\"1\" class=\"dataframe\">\n",
              "  <thead>\n",
              "    <tr>\n",
              "      <th></th>\n",
              "      <th colspan=\"5\" halign=\"left\">price</th>\n",
              "    </tr>\n",
              "    <tr>\n",
              "      <th>condition</th>\n",
              "      <th>Fair</th>\n",
              "      <th>Good</th>\n",
              "      <th>Like new</th>\n",
              "      <th>New</th>\n",
              "      <th>Very Good</th>\n",
              "    </tr>\n",
              "    <tr>\n",
              "      <th>model</th>\n",
              "      <th></th>\n",
              "      <th></th>\n",
              "      <th></th>\n",
              "      <th></th>\n",
              "      <th></th>\n",
              "    </tr>\n",
              "  </thead>\n",
              "  <tbody>\n",
              "    <tr>\n",
              "      <th>Caracal</th>\n",
              "      <td>2949.5</td>\n",
              "      <td>1744.0</td>\n",
              "      <td>508.0</td>\n",
              "      <td>1818.5</td>\n",
              "      <td>1832.5</td>\n",
              "    </tr>\n",
              "    <tr>\n",
              "      <th>Clepsydra</th>\n",
              "      <td>4151.5</td>\n",
              "      <td>604.0</td>\n",
              "      <td>1934.0</td>\n",
              "      <td>4162.5</td>\n",
              "      <td>1737.0</td>\n",
              "    </tr>\n",
              "    <tr>\n",
              "      <th>Lightning bolt</th>\n",
              "      <td>4235.5</td>\n",
              "      <td>655.0</td>\n",
              "      <td>1739.5</td>\n",
              "      <td>652.5</td>\n",
              "      <td>1783.5</td>\n",
              "    </tr>\n",
              "    <tr>\n",
              "      <th>Sand</th>\n",
              "      <td>4207.5</td>\n",
              "      <td>3006.0</td>\n",
              "      <td>1884.5</td>\n",
              "      <td>543.5</td>\n",
              "      <td>520.0</td>\n",
              "    </tr>\n",
              "    <tr>\n",
              "      <th>Tempo</th>\n",
              "      <td>4189.5</td>\n",
              "      <td>4225.5</td>\n",
              "      <td>3039.5</td>\n",
              "      <td>2965.0</td>\n",
              "      <td>1854.5</td>\n",
              "    </tr>\n",
              "  </tbody>\n",
              "</table>\n",
              "</div>"
            ],
            "text/plain": [
              "                 price                                   \n",
              "condition         Fair    Good Like new     New Very Good\n",
              "model                                                    \n",
              "Caracal         2949.5  1744.0    508.0  1818.5    1832.5\n",
              "Clepsydra       4151.5   604.0   1934.0  4162.5    1737.0\n",
              "Lightning bolt  4235.5   655.0   1739.5   652.5    1783.5\n",
              "Sand            4207.5  3006.0   1884.5   543.5     520.0\n",
              "Tempo           4189.5  4225.5   3039.5  2965.0    1854.5"
            ]
          },
          "execution_count": 42,
          "metadata": {},
          "output_type": "execute_result"
        }
      ],
      "source": [
        "pd_pivot = pd.pivot_table(df, values= ['price'], index=['model'], columns=['condition'])\n",
        "pd_pivot"
      ]
    },
    {
      "cell_type": "code",
      "execution_count": 43,
      "metadata": {
        "colab": {
          "base_uri": "https://localhost:8080/",
          "height": 0
        },
        "id": "odY16KNvf6UZ",
        "outputId": "1dfdc749-ce63-4679-9ecf-70620a0d9900"
      },
      "outputs": [
        {
          "data": {
            "text/plain": [
              "pandas.core.frame.DataFrame"
            ]
          },
          "execution_count": 43,
          "metadata": {},
          "output_type": "execute_result"
        }
      ],
      "source": [
        "type(pd_pivot)"
      ]
    },
    {
      "cell_type": "code",
      "execution_count": 44,
      "metadata": {
        "colab": {
          "base_uri": "https://localhost:8080/",
          "height": 447
        },
        "id": "vtmy7REMf7yC",
        "outputId": "4d5890ee-b71c-41ff-910f-b30b832477e5"
      },
      "outputs": [
        {
          "data": {
            "text/html": [
              "<div>\n",
              "<style scoped>\n",
              "    .dataframe tbody tr th:only-of-type {\n",
              "        vertical-align: middle;\n",
              "    }\n",
              "\n",
              "    .dataframe tbody tr th {\n",
              "        vertical-align: top;\n",
              "    }\n",
              "\n",
              "    .dataframe thead th {\n",
              "        text-align: right;\n",
              "    }\n",
              "</style>\n",
              "<table border=\"1\" class=\"dataframe\">\n",
              "  <thead>\n",
              "    <tr style=\"text-align: right;\">\n",
              "      <th></th>\n",
              "      <th></th>\n",
              "      <th></th>\n",
              "      <th>engagement</th>\n",
              "      <th>price</th>\n",
              "    </tr>\n",
              "    <tr>\n",
              "      <th>model</th>\n",
              "      <th>store</th>\n",
              "      <th>condition</th>\n",
              "      <th></th>\n",
              "      <th></th>\n",
              "    </tr>\n",
              "  </thead>\n",
              "  <tbody>\n",
              "    <tr>\n",
              "      <th rowspan=\"3\" valign=\"top\">Caracal</th>\n",
              "      <th>Watches unlimited</th>\n",
              "      <th>New</th>\n",
              "      <td>77.848101</td>\n",
              "      <td>489.0</td>\n",
              "    </tr>\n",
              "    <tr>\n",
              "      <th rowspan=\"2\" valign=\"top\">National traders</th>\n",
              "      <th>Like new</th>\n",
              "      <td>75.696203</td>\n",
              "      <td>489.0</td>\n",
              "    </tr>\n",
              "    <tr>\n",
              "      <th>Good</th>\n",
              "      <td>72.025316</td>\n",
              "      <td>490.5</td>\n",
              "    </tr>\n",
              "    <tr>\n",
              "      <th>Lightning bolt</th>\n",
              "      <th>Super deals</th>\n",
              "      <th>Like new</th>\n",
              "      <td>78.987342</td>\n",
              "      <td>501.0</td>\n",
              "    </tr>\n",
              "    <tr>\n",
              "      <th>Sand</th>\n",
              "      <th>Super deals</th>\n",
              "      <th>Good</th>\n",
              "      <td>80.126582</td>\n",
              "      <td>502.5</td>\n",
              "    </tr>\n",
              "    <tr>\n",
              "      <th>...</th>\n",
              "      <th>...</th>\n",
              "      <th>...</th>\n",
              "      <td>...</td>\n",
              "      <td>...</td>\n",
              "    </tr>\n",
              "    <tr>\n",
              "      <th>Lightning bolt</th>\n",
              "      <th>National traders</th>\n",
              "      <th>Very Good</th>\n",
              "      <td>80.379747</td>\n",
              "      <td>4239.0</td>\n",
              "    </tr>\n",
              "    <tr>\n",
              "      <th>Sand</th>\n",
              "      <th>National traders</th>\n",
              "      <th>Good</th>\n",
              "      <td>80.506329</td>\n",
              "      <td>4282.5</td>\n",
              "    </tr>\n",
              "    <tr>\n",
              "      <th>Lightning bolt</th>\n",
              "      <th>Watches unlimited</th>\n",
              "      <th>Fair</th>\n",
              "      <td>67.088608</td>\n",
              "      <td>4284.0</td>\n",
              "    </tr>\n",
              "    <tr>\n",
              "      <th>Sand</th>\n",
              "      <th>Super deals</th>\n",
              "      <th>Like new</th>\n",
              "      <td>79.493671</td>\n",
              "      <td>835.5</td>\n",
              "    </tr>\n",
              "    <tr>\n",
              "      <th>Tempo</th>\n",
              "      <th>Watches unlimited</th>\n",
              "      <th>Good</th>\n",
              "      <td>82.405063</td>\n",
              "      <td>4308.0</td>\n",
              "    </tr>\n",
              "  </tbody>\n",
              "</table>\n",
              "<p>75 rows × 2 columns</p>\n",
              "</div>"
            ],
            "text/plain": [
              "                                            engagement   price\n",
              "model          store             condition                    \n",
              "Caracal        Watches unlimited New         77.848101   489.0\n",
              "               National traders  Like new    75.696203   489.0\n",
              "                                 Good        72.025316   490.5\n",
              "Lightning bolt Super deals       Like new    78.987342   501.0\n",
              "Sand           Super deals       Good        80.126582   502.5\n",
              "...                                                ...     ...\n",
              "Lightning bolt National traders  Very Good   80.379747  4239.0\n",
              "Sand           National traders  Good        80.506329  4282.5\n",
              "Lightning bolt Watches unlimited Fair        67.088608  4284.0\n",
              "Sand           Super deals       Like new    79.493671   835.5\n",
              "Tempo          Watches unlimited Good        82.405063  4308.0\n",
              "\n",
              "[75 rows x 2 columns]"
            ]
          },
          "execution_count": 44,
          "metadata": {},
          "output_type": "execute_result"
        }
      ],
      "source": [
        "df # original"
      ]
    },
    {
      "cell_type": "code",
      "execution_count": 45,
      "metadata": {
        "colab": {
          "base_uri": "https://localhost:8080/",
          "height": 573
        },
        "id": "BwnBae0kgCyB",
        "outputId": "a1ffa0de-835f-4c7f-d833-9b531841ae14"
      },
      "outputs": [
        {
          "data": {
            "text/html": [
              "<div>\n",
              "<style scoped>\n",
              "    .dataframe tbody tr th:only-of-type {\n",
              "        vertical-align: middle;\n",
              "    }\n",
              "\n",
              "    .dataframe tbody tr th {\n",
              "        vertical-align: top;\n",
              "    }\n",
              "\n",
              "    .dataframe thead tr th {\n",
              "        text-align: left;\n",
              "    }\n",
              "\n",
              "    .dataframe thead tr:last-of-type th {\n",
              "        text-align: right;\n",
              "    }\n",
              "</style>\n",
              "<table border=\"1\" class=\"dataframe\">\n",
              "  <thead>\n",
              "    <tr>\n",
              "      <th></th>\n",
              "      <th></th>\n",
              "      <th colspan=\"5\" halign=\"left\">engagement</th>\n",
              "      <th colspan=\"5\" halign=\"left\">price</th>\n",
              "    </tr>\n",
              "    <tr>\n",
              "      <th></th>\n",
              "      <th>condition</th>\n",
              "      <th>Fair</th>\n",
              "      <th>Good</th>\n",
              "      <th>Like new</th>\n",
              "      <th>New</th>\n",
              "      <th>Very Good</th>\n",
              "      <th>Fair</th>\n",
              "      <th>Good</th>\n",
              "      <th>Like new</th>\n",
              "      <th>New</th>\n",
              "      <th>Very Good</th>\n",
              "    </tr>\n",
              "    <tr>\n",
              "      <th>model</th>\n",
              "      <th>store</th>\n",
              "      <th></th>\n",
              "      <th></th>\n",
              "      <th></th>\n",
              "      <th></th>\n",
              "      <th></th>\n",
              "      <th></th>\n",
              "      <th></th>\n",
              "      <th></th>\n",
              "      <th></th>\n",
              "      <th></th>\n",
              "    </tr>\n",
              "  </thead>\n",
              "  <tbody>\n",
              "    <tr>\n",
              "      <th rowspan=\"3\" valign=\"top\">Caracal</th>\n",
              "      <th>National traders</th>\n",
              "      <td>69.746835</td>\n",
              "      <td>72.025316</td>\n",
              "      <td>75.696203</td>\n",
              "      <td>79.113924</td>\n",
              "      <td>79.240506</td>\n",
              "      <td>4135.5</td>\n",
              "      <td>490.5</td>\n",
              "      <td>489.0</td>\n",
              "      <td>4135.5</td>\n",
              "      <td>831.0</td>\n",
              "    </tr>\n",
              "    <tr>\n",
              "      <th>Super deals</th>\n",
              "      <td>82.405063</td>\n",
              "      <td>81.139241</td>\n",
              "      <td>76.202532</td>\n",
              "      <td>79.620253</td>\n",
              "      <td>80.759494</td>\n",
              "      <td>505.5</td>\n",
              "      <td>603.0</td>\n",
              "      <td>517.5</td>\n",
              "      <td>831.0</td>\n",
              "      <td>528.0</td>\n",
              "    </tr>\n",
              "    <tr>\n",
              "      <th>Watches unlimited</th>\n",
              "      <td>74.303797</td>\n",
              "      <td>72.784810</td>\n",
              "      <td>77.088608</td>\n",
              "      <td>77.848101</td>\n",
              "      <td>78.987342</td>\n",
              "      <td>4207.5</td>\n",
              "      <td>4138.5</td>\n",
              "      <td>517.5</td>\n",
              "      <td>489.0</td>\n",
              "      <td>4138.5</td>\n",
              "    </tr>\n",
              "    <tr>\n",
              "      <th rowspan=\"3\" valign=\"top\">Clepsydra</th>\n",
              "      <th>National traders</th>\n",
              "      <td>83.164557</td>\n",
              "      <td>80.759494</td>\n",
              "      <td>77.848101</td>\n",
              "      <td>77.468354</td>\n",
              "      <td>78.354430</td>\n",
              "      <td>4144.5</td>\n",
              "      <td>604.5</td>\n",
              "      <td>4140.0</td>\n",
              "      <td>4147.5</td>\n",
              "      <td>505.5</td>\n",
              "    </tr>\n",
              "    <tr>\n",
              "      <th>Super deals</th>\n",
              "      <td>81.518987</td>\n",
              "      <td>81.012658</td>\n",
              "      <td>77.468354</td>\n",
              "      <td>78.481013</td>\n",
              "      <td>77.215190</td>\n",
              "      <td>4144.5</td>\n",
              "      <td>603.0</td>\n",
              "      <td>831.0</td>\n",
              "      <td>4144.5</td>\n",
              "      <td>529.5</td>\n",
              "    </tr>\n",
              "    <tr>\n",
              "      <th>Watches unlimited</th>\n",
              "      <td>85.949367</td>\n",
              "      <td>79.873418</td>\n",
              "      <td>79.620253</td>\n",
              "      <td>77.974684</td>\n",
              "      <td>80.632911</td>\n",
              "      <td>4165.5</td>\n",
              "      <td>604.5</td>\n",
              "      <td>831.0</td>\n",
              "      <td>4195.5</td>\n",
              "      <td>4176.0</td>\n",
              "    </tr>\n",
              "    <tr>\n",
              "      <th rowspan=\"3\" valign=\"top\">Lightning bolt</th>\n",
              "      <th>National traders</th>\n",
              "      <td>86.202532</td>\n",
              "      <td>80.000000</td>\n",
              "      <td>79.113924</td>\n",
              "      <td>77.974684</td>\n",
              "      <td>80.379747</td>\n",
              "      <td>4216.5</td>\n",
              "      <td>607.5</td>\n",
              "      <td>532.5</td>\n",
              "      <td>831.0</td>\n",
              "      <td>4239.0</td>\n",
              "    </tr>\n",
              "    <tr>\n",
              "      <th>Super deals</th>\n",
              "      <td>85.189873</td>\n",
              "      <td>80.126582</td>\n",
              "      <td>78.987342</td>\n",
              "      <td>78.481013</td>\n",
              "      <td>79.240506</td>\n",
              "      <td>4206.0</td>\n",
              "      <td>526.5</td>\n",
              "      <td>501.0</td>\n",
              "      <td>522.0</td>\n",
              "      <td>607.5</td>\n",
              "    </tr>\n",
              "    <tr>\n",
              "      <th>Watches unlimited</th>\n",
              "      <td>67.088608</td>\n",
              "      <td>80.886076</td>\n",
              "      <td>74.430380</td>\n",
              "      <td>77.468354</td>\n",
              "      <td>78.860759</td>\n",
              "      <td>4284.0</td>\n",
              "      <td>831.0</td>\n",
              "      <td>4185.0</td>\n",
              "      <td>604.5</td>\n",
              "      <td>504.0</td>\n",
              "    </tr>\n",
              "    <tr>\n",
              "      <th rowspan=\"3\" valign=\"top\">Sand</th>\n",
              "      <th>National traders</th>\n",
              "      <td>83.291139</td>\n",
              "      <td>80.506329</td>\n",
              "      <td>75.063291</td>\n",
              "      <td>78.734177</td>\n",
              "      <td>79.493671</td>\n",
              "      <td>4183.5</td>\n",
              "      <td>4282.5</td>\n",
              "      <td>607.5</td>\n",
              "      <td>516.0</td>\n",
              "      <td>504.0</td>\n",
              "    </tr>\n",
              "    <tr>\n",
              "      <th>Super deals</th>\n",
              "      <td>82.278481</td>\n",
              "      <td>80.126582</td>\n",
              "      <td>79.493671</td>\n",
              "      <td>77.341772</td>\n",
              "      <td>79.367089</td>\n",
              "      <td>4222.5</td>\n",
              "      <td>502.5</td>\n",
              "      <td>835.5</td>\n",
              "      <td>604.5</td>\n",
              "      <td>526.5</td>\n",
              "    </tr>\n",
              "    <tr>\n",
              "      <th>Watches unlimited</th>\n",
              "      <td>83.164557</td>\n",
              "      <td>81.012658</td>\n",
              "      <td>78.354430</td>\n",
              "      <td>79.493671</td>\n",
              "      <td>75.189873</td>\n",
              "      <td>4216.5</td>\n",
              "      <td>4233.0</td>\n",
              "      <td>4210.5</td>\n",
              "      <td>510.0</td>\n",
              "      <td>529.5</td>\n",
              "    </tr>\n",
              "    <tr>\n",
              "      <th rowspan=\"3\" valign=\"top\">Tempo</th>\n",
              "      <th>National traders</th>\n",
              "      <td>74.430380</td>\n",
              "      <td>82.405063</td>\n",
              "      <td>78.227848</td>\n",
              "      <td>77.974684</td>\n",
              "      <td>76.455696</td>\n",
              "      <td>4195.5</td>\n",
              "      <td>4204.5</td>\n",
              "      <td>829.5</td>\n",
              "      <td>4140.0</td>\n",
              "      <td>531.0</td>\n",
              "    </tr>\n",
              "    <tr>\n",
              "      <th>Super deals</th>\n",
              "      <td>74.683544</td>\n",
              "      <td>75.569620</td>\n",
              "      <td>78.101266</td>\n",
              "      <td>78.354430</td>\n",
              "      <td>75.822785</td>\n",
              "      <td>4200.0</td>\n",
              "      <td>4164.0</td>\n",
              "      <td>4140.0</td>\n",
              "      <td>606.0</td>\n",
              "      <td>4203.0</td>\n",
              "    </tr>\n",
              "    <tr>\n",
              "      <th>Watches unlimited</th>\n",
              "      <td>69.746835</td>\n",
              "      <td>82.405063</td>\n",
              "      <td>77.088608</td>\n",
              "      <td>78.354430</td>\n",
              "      <td>80.126582</td>\n",
              "      <td>4173.0</td>\n",
              "      <td>4308.0</td>\n",
              "      <td>4149.0</td>\n",
              "      <td>4149.0</td>\n",
              "      <td>829.5</td>\n",
              "    </tr>\n",
              "  </tbody>\n",
              "</table>\n",
              "</div>"
            ],
            "text/plain": [
              "                                 engagement                                   \\\n",
              "condition                              Fair       Good   Like new        New   \n",
              "model          store                                                           \n",
              "Caracal        National traders   69.746835  72.025316  75.696203  79.113924   \n",
              "               Super deals        82.405063  81.139241  76.202532  79.620253   \n",
              "               Watches unlimited  74.303797  72.784810  77.088608  77.848101   \n",
              "Clepsydra      National traders   83.164557  80.759494  77.848101  77.468354   \n",
              "               Super deals        81.518987  81.012658  77.468354  78.481013   \n",
              "               Watches unlimited  85.949367  79.873418  79.620253  77.974684   \n",
              "Lightning bolt National traders   86.202532  80.000000  79.113924  77.974684   \n",
              "               Super deals        85.189873  80.126582  78.987342  78.481013   \n",
              "               Watches unlimited  67.088608  80.886076  74.430380  77.468354   \n",
              "Sand           National traders   83.291139  80.506329  75.063291  78.734177   \n",
              "               Super deals        82.278481  80.126582  79.493671  77.341772   \n",
              "               Watches unlimited  83.164557  81.012658  78.354430  79.493671   \n",
              "Tempo          National traders   74.430380  82.405063  78.227848  77.974684   \n",
              "               Super deals        74.683544  75.569620  78.101266  78.354430   \n",
              "               Watches unlimited  69.746835  82.405063  77.088608  78.354430   \n",
              "\n",
              "                                              price                           \\\n",
              "condition                         Very Good    Fair    Good Like new     New   \n",
              "model          store                                                           \n",
              "Caracal        National traders   79.240506  4135.5   490.5    489.0  4135.5   \n",
              "               Super deals        80.759494   505.5   603.0    517.5   831.0   \n",
              "               Watches unlimited  78.987342  4207.5  4138.5    517.5   489.0   \n",
              "Clepsydra      National traders   78.354430  4144.5   604.5   4140.0  4147.5   \n",
              "               Super deals        77.215190  4144.5   603.0    831.0  4144.5   \n",
              "               Watches unlimited  80.632911  4165.5   604.5    831.0  4195.5   \n",
              "Lightning bolt National traders   80.379747  4216.5   607.5    532.5   831.0   \n",
              "               Super deals        79.240506  4206.0   526.5    501.0   522.0   \n",
              "               Watches unlimited  78.860759  4284.0   831.0   4185.0   604.5   \n",
              "Sand           National traders   79.493671  4183.5  4282.5    607.5   516.0   \n",
              "               Super deals        79.367089  4222.5   502.5    835.5   604.5   \n",
              "               Watches unlimited  75.189873  4216.5  4233.0   4210.5   510.0   \n",
              "Tempo          National traders   76.455696  4195.5  4204.5    829.5  4140.0   \n",
              "               Super deals        75.822785  4200.0  4164.0   4140.0   606.0   \n",
              "               Watches unlimited  80.126582  4173.0  4308.0   4149.0  4149.0   \n",
              "\n",
              "                                            \n",
              "condition                        Very Good  \n",
              "model          store                        \n",
              "Caracal        National traders      831.0  \n",
              "               Super deals           528.0  \n",
              "               Watches unlimited    4138.5  \n",
              "Clepsydra      National traders      505.5  \n",
              "               Super deals           529.5  \n",
              "               Watches unlimited    4176.0  \n",
              "Lightning bolt National traders     4239.0  \n",
              "               Super deals           607.5  \n",
              "               Watches unlimited     504.0  \n",
              "Sand           National traders      504.0  \n",
              "               Super deals           526.5  \n",
              "               Watches unlimited     529.5  \n",
              "Tempo          National traders      531.0  \n",
              "               Super deals          4203.0  \n",
              "               Watches unlimited     829.5  "
            ]
          },
          "execution_count": 45,
          "metadata": {},
          "output_type": "execute_result"
        }
      ],
      "source": [
        "df.unstack()"
      ]
    },
    {
      "cell_type": "code",
      "execution_count": 46,
      "metadata": {
        "colab": {
          "base_uri": "https://localhost:8080/",
          "height": 265
        },
        "id": "BUZN-afFgFc_",
        "outputId": "23efde10-5fac-4066-d4cc-3d481137e3bd"
      },
      "outputs": [
        {
          "data": {
            "text/html": [
              "<div>\n",
              "<style scoped>\n",
              "    .dataframe tbody tr th:only-of-type {\n",
              "        vertical-align: middle;\n",
              "    }\n",
              "\n",
              "    .dataframe tbody tr th {\n",
              "        vertical-align: top;\n",
              "    }\n",
              "\n",
              "    .dataframe thead tr th {\n",
              "        text-align: left;\n",
              "    }\n",
              "\n",
              "    .dataframe thead tr:last-of-type th {\n",
              "        text-align: right;\n",
              "    }\n",
              "</style>\n",
              "<table border=\"1\" class=\"dataframe\">\n",
              "  <thead>\n",
              "    <tr>\n",
              "      <th></th>\n",
              "      <th></th>\n",
              "      <th colspan=\"5\" halign=\"left\">engagement</th>\n",
              "      <th colspan=\"5\" halign=\"left\">price</th>\n",
              "    </tr>\n",
              "    <tr>\n",
              "      <th></th>\n",
              "      <th>condition</th>\n",
              "      <th>Fair</th>\n",
              "      <th>Good</th>\n",
              "      <th>Like new</th>\n",
              "      <th>New</th>\n",
              "      <th>Very Good</th>\n",
              "      <th>Fair</th>\n",
              "      <th>Good</th>\n",
              "      <th>Like new</th>\n",
              "      <th>New</th>\n",
              "      <th>Very Good</th>\n",
              "    </tr>\n",
              "    <tr>\n",
              "      <th>model</th>\n",
              "      <th>store</th>\n",
              "      <th></th>\n",
              "      <th></th>\n",
              "      <th></th>\n",
              "      <th></th>\n",
              "      <th></th>\n",
              "      <th></th>\n",
              "      <th></th>\n",
              "      <th></th>\n",
              "      <th></th>\n",
              "      <th></th>\n",
              "    </tr>\n",
              "  </thead>\n",
              "  <tbody>\n",
              "    <tr>\n",
              "      <th rowspan=\"3\" valign=\"top\">Caracal</th>\n",
              "      <th>National traders</th>\n",
              "      <td>69.746835</td>\n",
              "      <td>72.025316</td>\n",
              "      <td>75.696203</td>\n",
              "      <td>79.113924</td>\n",
              "      <td>79.240506</td>\n",
              "      <td>4135.5</td>\n",
              "      <td>490.5</td>\n",
              "      <td>489.0</td>\n",
              "      <td>4135.5</td>\n",
              "      <td>831.0</td>\n",
              "    </tr>\n",
              "    <tr>\n",
              "      <th>Super deals</th>\n",
              "      <td>82.405063</td>\n",
              "      <td>81.139241</td>\n",
              "      <td>76.202532</td>\n",
              "      <td>79.620253</td>\n",
              "      <td>80.759494</td>\n",
              "      <td>505.5</td>\n",
              "      <td>603.0</td>\n",
              "      <td>517.5</td>\n",
              "      <td>831.0</td>\n",
              "      <td>528.0</td>\n",
              "    </tr>\n",
              "    <tr>\n",
              "      <th>Watches unlimited</th>\n",
              "      <td>74.303797</td>\n",
              "      <td>72.784810</td>\n",
              "      <td>77.088608</td>\n",
              "      <td>77.848101</td>\n",
              "      <td>78.987342</td>\n",
              "      <td>4207.5</td>\n",
              "      <td>4138.5</td>\n",
              "      <td>517.5</td>\n",
              "      <td>489.0</td>\n",
              "      <td>4138.5</td>\n",
              "    </tr>\n",
              "    <tr>\n",
              "      <th rowspan=\"2\" valign=\"top\">Clepsydra</th>\n",
              "      <th>National traders</th>\n",
              "      <td>83.164557</td>\n",
              "      <td>80.759494</td>\n",
              "      <td>77.848101</td>\n",
              "      <td>77.468354</td>\n",
              "      <td>78.354430</td>\n",
              "      <td>4144.5</td>\n",
              "      <td>604.5</td>\n",
              "      <td>4140.0</td>\n",
              "      <td>4147.5</td>\n",
              "      <td>505.5</td>\n",
              "    </tr>\n",
              "    <tr>\n",
              "      <th>Super deals</th>\n",
              "      <td>81.518987</td>\n",
              "      <td>81.012658</td>\n",
              "      <td>77.468354</td>\n",
              "      <td>78.481013</td>\n",
              "      <td>77.215190</td>\n",
              "      <td>4144.5</td>\n",
              "      <td>603.0</td>\n",
              "      <td>831.0</td>\n",
              "      <td>4144.5</td>\n",
              "      <td>529.5</td>\n",
              "    </tr>\n",
              "  </tbody>\n",
              "</table>\n",
              "</div>"
            ],
            "text/plain": [
              "                            engagement                                   \\\n",
              "condition                         Fair       Good   Like new        New   \n",
              "model     store                                                           \n",
              "Caracal   National traders   69.746835  72.025316  75.696203  79.113924   \n",
              "          Super deals        82.405063  81.139241  76.202532  79.620253   \n",
              "          Watches unlimited  74.303797  72.784810  77.088608  77.848101   \n",
              "Clepsydra National traders   83.164557  80.759494  77.848101  77.468354   \n",
              "          Super deals        81.518987  81.012658  77.468354  78.481013   \n",
              "\n",
              "                                         price                           \\\n",
              "condition                    Very Good    Fair    Good Like new     New   \n",
              "model     store                                                           \n",
              "Caracal   National traders   79.240506  4135.5   490.5    489.0  4135.5   \n",
              "          Super deals        80.759494   505.5   603.0    517.5   831.0   \n",
              "          Watches unlimited  78.987342  4207.5  4138.5    517.5   489.0   \n",
              "Clepsydra National traders   78.354430  4144.5   604.5   4140.0  4147.5   \n",
              "          Super deals        77.215190  4144.5   603.0    831.0  4144.5   \n",
              "\n",
              "                                       \n",
              "condition                   Very Good  \n",
              "model     store                        \n",
              "Caracal   National traders      831.0  \n",
              "          Super deals           528.0  \n",
              "          Watches unlimited    4138.5  \n",
              "Clepsydra National traders      505.5  \n",
              "          Super deals           529.5  "
            ]
          },
          "execution_count": 46,
          "metadata": {},
          "output_type": "execute_result"
        }
      ],
      "source": [
        "my_unstacked_df = df.unstack()\n",
        "my_unstacked_df.head()"
      ]
    },
    {
      "cell_type": "markdown",
      "metadata": {
        "id": "CTVuxjOY1Y1Y"
      },
      "source": [
        "We can reverse the process using **.stack()**:\n"
      ]
    },
    {
      "cell_type": "code",
      "execution_count": 47,
      "metadata": {
        "colab": {
          "base_uri": "https://localhost:8080/",
          "height": 696
        },
        "id": "27IIgJk1h0nW",
        "outputId": "fdc1de1f-5b6b-4124-8dfd-1af14322a2aa"
      },
      "outputs": [
        {
          "data": {
            "text/html": [
              "<div>\n",
              "<style scoped>\n",
              "    .dataframe tbody tr th:only-of-type {\n",
              "        vertical-align: middle;\n",
              "    }\n",
              "\n",
              "    .dataframe tbody tr th {\n",
              "        vertical-align: top;\n",
              "    }\n",
              "\n",
              "    .dataframe thead th {\n",
              "        text-align: right;\n",
              "    }\n",
              "</style>\n",
              "<table border=\"1\" class=\"dataframe\">\n",
              "  <thead>\n",
              "    <tr style=\"text-align: right;\">\n",
              "      <th></th>\n",
              "      <th></th>\n",
              "      <th></th>\n",
              "      <th>engagement</th>\n",
              "      <th>price</th>\n",
              "    </tr>\n",
              "    <tr>\n",
              "      <th>model</th>\n",
              "      <th>store</th>\n",
              "      <th>condition</th>\n",
              "      <th></th>\n",
              "      <th></th>\n",
              "    </tr>\n",
              "  </thead>\n",
              "  <tbody>\n",
              "    <tr>\n",
              "      <th rowspan=\"15\" valign=\"top\">Caracal</th>\n",
              "      <th rowspan=\"5\" valign=\"top\">National traders</th>\n",
              "      <th>Fair</th>\n",
              "      <td>69.746835</td>\n",
              "      <td>4135.5</td>\n",
              "    </tr>\n",
              "    <tr>\n",
              "      <th>Good</th>\n",
              "      <td>72.025316</td>\n",
              "      <td>490.5</td>\n",
              "    </tr>\n",
              "    <tr>\n",
              "      <th>Like new</th>\n",
              "      <td>75.696203</td>\n",
              "      <td>489.0</td>\n",
              "    </tr>\n",
              "    <tr>\n",
              "      <th>New</th>\n",
              "      <td>79.113924</td>\n",
              "      <td>4135.5</td>\n",
              "    </tr>\n",
              "    <tr>\n",
              "      <th>Very Good</th>\n",
              "      <td>79.240506</td>\n",
              "      <td>831.0</td>\n",
              "    </tr>\n",
              "    <tr>\n",
              "      <th rowspan=\"5\" valign=\"top\">Super deals</th>\n",
              "      <th>Fair</th>\n",
              "      <td>82.405063</td>\n",
              "      <td>505.5</td>\n",
              "    </tr>\n",
              "    <tr>\n",
              "      <th>Good</th>\n",
              "      <td>81.139241</td>\n",
              "      <td>603.0</td>\n",
              "    </tr>\n",
              "    <tr>\n",
              "      <th>Like new</th>\n",
              "      <td>76.202532</td>\n",
              "      <td>517.5</td>\n",
              "    </tr>\n",
              "    <tr>\n",
              "      <th>New</th>\n",
              "      <td>79.620253</td>\n",
              "      <td>831.0</td>\n",
              "    </tr>\n",
              "    <tr>\n",
              "      <th>Very Good</th>\n",
              "      <td>80.759494</td>\n",
              "      <td>528.0</td>\n",
              "    </tr>\n",
              "    <tr>\n",
              "      <th rowspan=\"5\" valign=\"top\">Watches unlimited</th>\n",
              "      <th>Fair</th>\n",
              "      <td>74.303797</td>\n",
              "      <td>4207.5</td>\n",
              "    </tr>\n",
              "    <tr>\n",
              "      <th>Good</th>\n",
              "      <td>72.784810</td>\n",
              "      <td>4138.5</td>\n",
              "    </tr>\n",
              "    <tr>\n",
              "      <th>Like new</th>\n",
              "      <td>77.088608</td>\n",
              "      <td>517.5</td>\n",
              "    </tr>\n",
              "    <tr>\n",
              "      <th>New</th>\n",
              "      <td>77.848101</td>\n",
              "      <td>489.0</td>\n",
              "    </tr>\n",
              "    <tr>\n",
              "      <th>Very Good</th>\n",
              "      <td>78.987342</td>\n",
              "      <td>4138.5</td>\n",
              "    </tr>\n",
              "    <tr>\n",
              "      <th rowspan=\"5\" valign=\"top\">Clepsydra</th>\n",
              "      <th rowspan=\"5\" valign=\"top\">National traders</th>\n",
              "      <th>Fair</th>\n",
              "      <td>83.164557</td>\n",
              "      <td>4144.5</td>\n",
              "    </tr>\n",
              "    <tr>\n",
              "      <th>Good</th>\n",
              "      <td>80.759494</td>\n",
              "      <td>604.5</td>\n",
              "    </tr>\n",
              "    <tr>\n",
              "      <th>Like new</th>\n",
              "      <td>77.848101</td>\n",
              "      <td>4140.0</td>\n",
              "    </tr>\n",
              "    <tr>\n",
              "      <th>New</th>\n",
              "      <td>77.468354</td>\n",
              "      <td>4147.5</td>\n",
              "    </tr>\n",
              "    <tr>\n",
              "      <th>Very Good</th>\n",
              "      <td>78.354430</td>\n",
              "      <td>505.5</td>\n",
              "    </tr>\n",
              "  </tbody>\n",
              "</table>\n",
              "</div>"
            ],
            "text/plain": [
              "                                       engagement   price\n",
              "model     store             condition                    \n",
              "Caracal   National traders  Fair        69.746835  4135.5\n",
              "                            Good        72.025316   490.5\n",
              "                            Like new    75.696203   489.0\n",
              "                            New         79.113924  4135.5\n",
              "                            Very Good   79.240506   831.0\n",
              "          Super deals       Fair        82.405063   505.5\n",
              "                            Good        81.139241   603.0\n",
              "                            Like new    76.202532   517.5\n",
              "                            New         79.620253   831.0\n",
              "                            Very Good   80.759494   528.0\n",
              "          Watches unlimited Fair        74.303797  4207.5\n",
              "                            Good        72.784810  4138.5\n",
              "                            Like new    77.088608   517.5\n",
              "                            New         77.848101   489.0\n",
              "                            Very Good   78.987342  4138.5\n",
              "Clepsydra National traders  Fair        83.164557  4144.5\n",
              "                            Good        80.759494   604.5\n",
              "                            Like new    77.848101  4140.0\n",
              "                            New         77.468354  4147.5\n",
              "                            Very Good   78.354430   505.5"
            ]
          },
          "execution_count": 47,
          "metadata": {},
          "output_type": "execute_result"
        }
      ],
      "source": [
        "my_stacked_df = my_unstacked_df.stack().iloc[0:20]\n",
        "my_stacked_df"
      ]
    }
  ],
  "metadata": {
    "colab": {
      "name": "BigThink.ipynb",
      "provenance": []
    },
    "kernelspec": {
      "display_name": "Python 3",
      "name": "python3"
    },
    "language_info": {
      "codemirror_mode": {
        "name": "ipython",
        "version": 3
      },
      "file_extension": ".py",
      "mimetype": "text/x-python",
      "name": "python",
      "nbconvert_exporter": "python",
      "pygments_lexer": "ipython3",
      "version": "3.8.3"
    }
  },
  "nbformat": 4,
  "nbformat_minor": 0
}
